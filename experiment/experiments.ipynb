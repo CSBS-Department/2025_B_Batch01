{
 "cells": [
  {
   "cell_type": "code",
   "execution_count": 3,
   "metadata": {},
   "outputs": [],
   "source": [
    "import pandas as pd\n",
    "import numpy as np\n",
    "import matplotlib.pyplot as plt\n",
    "%matplotlib inline\n",
    "import seaborn as sns"
   ]
  },
  {
   "cell_type": "code",
   "execution_count": 144,
   "metadata": {},
   "outputs": [],
   "source": [
    "df1=pd.read_csv(\"Ahmedabad_rent.csv\")\n",
    "df2=pd.read_csv(\"Bangalore_rent.csv\")\n",
    "df3=pd.read_csv(\"Chennai_rent.csv\")\n",
    "df4=pd.read_csv(\"Delhi_rent.csv\")\n",
    "df5=pd.read_csv(\"Hyderabad_rent.csv\")\n",
    "df6=pd.read_csv(\"Kolkata_rent.csv\")\n",
    "df7=pd.read_csv(\"Mumbai_rent.csv\")\n",
    "df8=pd.read_csv(\"Pune_rent.csv\")\n"
   ]
  },
  {
   "cell_type": "code",
   "execution_count": 145,
   "metadata": {},
   "outputs": [],
   "source": [
    "df1['city']=\"Ahmedabad\"\n",
    "df2['city']=\"Bangalore\"\n",
    "df3['city']=\"Chennai\"\n",
    "df4['city']=\"Delhi\"\n",
    "df5['city']=\"Hyderabad\"\n",
    "df6['city']=\"Kolkata\"\n",
    "df7['city']=\"Mumbai\"\n",
    "df8['city']=\"Pune\"\n"
   ]
  },
  {
   "cell_type": "code",
   "execution_count": 146,
   "metadata": {},
   "outputs": [
    {
     "data": {
      "text/plain": [
       "Index(['seller_type', 'bedroom', 'layout_type', 'property_type', 'locality',\n",
       "       'price', 'area', 'furnish_type', 'bathroom', 'city'],\n",
       "      dtype='object')"
      ]
     },
     "execution_count": 146,
     "metadata": {},
     "output_type": "execute_result"
    }
   ],
   "source": [
    "df3.columns"
   ]
  },
  {
   "cell_type": "code",
   "execution_count": 147,
   "metadata": {},
   "outputs": [
    {
     "data": {
      "text/html": [
       "<div>\n",
       "<style scoped>\n",
       "    .dataframe tbody tr th:only-of-type {\n",
       "        vertical-align: middle;\n",
       "    }\n",
       "\n",
       "    .dataframe tbody tr th {\n",
       "        vertical-align: top;\n",
       "    }\n",
       "\n",
       "    .dataframe thead th {\n",
       "        text-align: right;\n",
       "    }\n",
       "</style>\n",
       "<table border=\"1\" class=\"dataframe\">\n",
       "  <thead>\n",
       "    <tr style=\"text-align: right;\">\n",
       "      <th></th>\n",
       "      <th>seller_type</th>\n",
       "      <th>bedroom</th>\n",
       "      <th>layout_type</th>\n",
       "      <th>property_type</th>\n",
       "      <th>locality</th>\n",
       "      <th>price</th>\n",
       "      <th>area</th>\n",
       "      <th>furnish_type</th>\n",
       "      <th>bathroom</th>\n",
       "      <th>city</th>\n",
       "    </tr>\n",
       "  </thead>\n",
       "  <tbody>\n",
       "    <tr>\n",
       "      <th>0</th>\n",
       "      <td>OWNER</td>\n",
       "      <td>2</td>\n",
       "      <td>BHK</td>\n",
       "      <td>Independent Floor</td>\n",
       "      <td>kamakshipalya</td>\n",
       "      <td>20,000</td>\n",
       "      <td>1140</td>\n",
       "      <td>Semi-Furnished</td>\n",
       "      <td>2 bathrooms</td>\n",
       "      <td>Bangalore</td>\n",
       "    </tr>\n",
       "  </tbody>\n",
       "</table>\n",
       "</div>"
      ],
      "text/plain": [
       "  seller_type  bedroom layout_type      property_type       locality   price  \\\n",
       "0       OWNER        2         BHK  Independent Floor  kamakshipalya  20,000   \n",
       "\n",
       "   area    furnish_type     bathroom       city  \n",
       "0  1140  Semi-Furnished  2 bathrooms  Bangalore  "
      ]
     },
     "execution_count": 147,
     "metadata": {},
     "output_type": "execute_result"
    }
   ],
   "source": [
    "df2.head(1)"
   ]
  },
  {
   "cell_type": "code",
   "execution_count": 148,
   "metadata": {},
   "outputs": [],
   "source": [
    "dfs=[df1,df2,df3,df4,df5,df6,df7,df8]"
   ]
  },
  {
   "cell_type": "code",
   "execution_count": 149,
   "metadata": {},
   "outputs": [
    {
     "data": {
      "text/html": [
       "<div>\n",
       "<style scoped>\n",
       "    .dataframe tbody tr th:only-of-type {\n",
       "        vertical-align: middle;\n",
       "    }\n",
       "\n",
       "    .dataframe tbody tr th {\n",
       "        vertical-align: top;\n",
       "    }\n",
       "\n",
       "    .dataframe thead th {\n",
       "        text-align: right;\n",
       "    }\n",
       "</style>\n",
       "<table border=\"1\" class=\"dataframe\">\n",
       "  <thead>\n",
       "    <tr style=\"text-align: right;\">\n",
       "      <th></th>\n",
       "      <th>seller_type</th>\n",
       "      <th>bedroom</th>\n",
       "      <th>layout_type</th>\n",
       "      <th>property_type</th>\n",
       "      <th>locality</th>\n",
       "      <th>price</th>\n",
       "      <th>area</th>\n",
       "      <th>furnish_type</th>\n",
       "      <th>bathroom</th>\n",
       "      <th>city</th>\n",
       "    </tr>\n",
       "  </thead>\n",
       "  <tbody>\n",
       "    <tr>\n",
       "      <th>0</th>\n",
       "      <td>OWNER</td>\n",
       "      <td>2.0</td>\n",
       "      <td>BHK</td>\n",
       "      <td>Apartment</td>\n",
       "      <td>Bodakdev</td>\n",
       "      <td>20,000</td>\n",
       "      <td>1450.0</td>\n",
       "      <td>Furnished</td>\n",
       "      <td>2 bathrooms</td>\n",
       "      <td>Ahmedabad</td>\n",
       "    </tr>\n",
       "    <tr>\n",
       "      <th>1</th>\n",
       "      <td>OWNER</td>\n",
       "      <td>1.0</td>\n",
       "      <td>RK</td>\n",
       "      <td>Studio Apartment</td>\n",
       "      <td>CG Road</td>\n",
       "      <td>7,350</td>\n",
       "      <td>210.0</td>\n",
       "      <td>Semi-Furnished</td>\n",
       "      <td>1 bathrooms</td>\n",
       "      <td>Ahmedabad</td>\n",
       "    </tr>\n",
       "    <tr>\n",
       "      <th>2</th>\n",
       "      <td>OWNER</td>\n",
       "      <td>3.0</td>\n",
       "      <td>BHK</td>\n",
       "      <td>Apartment</td>\n",
       "      <td>Jodhpur</td>\n",
       "      <td>22,000</td>\n",
       "      <td>1900.0</td>\n",
       "      <td>Unfurnished</td>\n",
       "      <td>3 bathrooms</td>\n",
       "      <td>Ahmedabad</td>\n",
       "    </tr>\n",
       "    <tr>\n",
       "      <th>3</th>\n",
       "      <td>OWNER</td>\n",
       "      <td>2.0</td>\n",
       "      <td>BHK</td>\n",
       "      <td>Independent House</td>\n",
       "      <td>Sanand</td>\n",
       "      <td>13,000</td>\n",
       "      <td>1285.0</td>\n",
       "      <td>Semi-Furnished</td>\n",
       "      <td>2 bathrooms</td>\n",
       "      <td>Ahmedabad</td>\n",
       "    </tr>\n",
       "    <tr>\n",
       "      <th>4</th>\n",
       "      <td>OWNER</td>\n",
       "      <td>2.0</td>\n",
       "      <td>BHK</td>\n",
       "      <td>Independent House</td>\n",
       "      <td>Navrangpura</td>\n",
       "      <td>18,000</td>\n",
       "      <td>1600.0</td>\n",
       "      <td>Furnished</td>\n",
       "      <td>2 bathrooms</td>\n",
       "      <td>Ahmedabad</td>\n",
       "    </tr>\n",
       "  </tbody>\n",
       "</table>\n",
       "</div>"
      ],
      "text/plain": [
       "  seller_type  bedroom layout_type      property_type     locality   price  \\\n",
       "0       OWNER      2.0         BHK          Apartment     Bodakdev  20,000   \n",
       "1       OWNER      1.0          RK   Studio Apartment      CG Road   7,350   \n",
       "2       OWNER      3.0         BHK          Apartment      Jodhpur  22,000   \n",
       "3       OWNER      2.0         BHK  Independent House       Sanand  13,000   \n",
       "4       OWNER      2.0         BHK  Independent House  Navrangpura  18,000   \n",
       "\n",
       "     area    furnish_type     bathroom       city  \n",
       "0  1450.0       Furnished  2 bathrooms  Ahmedabad  \n",
       "1   210.0  Semi-Furnished  1 bathrooms  Ahmedabad  \n",
       "2  1900.0     Unfurnished  3 bathrooms  Ahmedabad  \n",
       "3  1285.0  Semi-Furnished  2 bathrooms  Ahmedabad  \n",
       "4  1600.0       Furnished  2 bathrooms  Ahmedabad  "
      ]
     },
     "execution_count": 149,
     "metadata": {},
     "output_type": "execute_result"
    }
   ],
   "source": [
    "df=pd.concat(dfs)\n",
    "df.head()"
   ]
  },
  {
   "cell_type": "code",
   "execution_count": 150,
   "metadata": {},
   "outputs": [
    {
     "data": {
      "text/html": [
       "<div>\n",
       "<style scoped>\n",
       "    .dataframe tbody tr th:only-of-type {\n",
       "        vertical-align: middle;\n",
       "    }\n",
       "\n",
       "    .dataframe tbody tr th {\n",
       "        vertical-align: top;\n",
       "    }\n",
       "\n",
       "    .dataframe thead th {\n",
       "        text-align: right;\n",
       "    }\n",
       "</style>\n",
       "<table border=\"1\" class=\"dataframe\">\n",
       "  <thead>\n",
       "    <tr style=\"text-align: right;\">\n",
       "      <th></th>\n",
       "      <th>seller_type</th>\n",
       "      <th>bedroom</th>\n",
       "      <th>layout_type</th>\n",
       "      <th>property_type</th>\n",
       "      <th>locality</th>\n",
       "      <th>price</th>\n",
       "      <th>area</th>\n",
       "      <th>furnish_type</th>\n",
       "      <th>bathroom</th>\n",
       "      <th>city</th>\n",
       "    </tr>\n",
       "  </thead>\n",
       "  <tbody>\n",
       "    <tr>\n",
       "      <th>22795</th>\n",
       "      <td>OWNER</td>\n",
       "      <td>1.0</td>\n",
       "      <td>BHK</td>\n",
       "      <td>Apartment</td>\n",
       "      <td>Chinchwad</td>\n",
       "      <td>13,250</td>\n",
       "      <td>650.0</td>\n",
       "      <td>Semi-Furnished</td>\n",
       "      <td>1 bathrooms</td>\n",
       "      <td>Pune</td>\n",
       "    </tr>\n",
       "    <tr>\n",
       "      <th>22796</th>\n",
       "      <td>OWNER</td>\n",
       "      <td>1.0</td>\n",
       "      <td>RK</td>\n",
       "      <td>Studio Apartment</td>\n",
       "      <td>Wadgaon Sheri</td>\n",
       "      <td>7,000</td>\n",
       "      <td>350.0</td>\n",
       "      <td>Unfurnished</td>\n",
       "      <td>1 bathrooms</td>\n",
       "      <td>Pune</td>\n",
       "    </tr>\n",
       "    <tr>\n",
       "      <th>22797</th>\n",
       "      <td>OWNER</td>\n",
       "      <td>1.0</td>\n",
       "      <td>BHK</td>\n",
       "      <td>Apartment</td>\n",
       "      <td>Kothrud</td>\n",
       "      <td>8,500</td>\n",
       "      <td>389.0</td>\n",
       "      <td>Semi-Furnished</td>\n",
       "      <td>1 bathrooms</td>\n",
       "      <td>Pune</td>\n",
       "    </tr>\n",
       "    <tr>\n",
       "      <th>22798</th>\n",
       "      <td>AGENT</td>\n",
       "      <td>1.0</td>\n",
       "      <td>BHK</td>\n",
       "      <td>Apartment</td>\n",
       "      <td>Wakad</td>\n",
       "      <td>16,500</td>\n",
       "      <td>670.0</td>\n",
       "      <td>Semi-Furnished</td>\n",
       "      <td>2 bathrooms</td>\n",
       "      <td>Pune</td>\n",
       "    </tr>\n",
       "    <tr>\n",
       "      <th>22799</th>\n",
       "      <td>AGENT</td>\n",
       "      <td>2.0</td>\n",
       "      <td>BHK</td>\n",
       "      <td>Apartment</td>\n",
       "      <td>Alandi</td>\n",
       "      <td>12,000</td>\n",
       "      <td>800.0</td>\n",
       "      <td>Unfurnished</td>\n",
       "      <td>2 bathrooms</td>\n",
       "      <td>Pune</td>\n",
       "    </tr>\n",
       "  </tbody>\n",
       "</table>\n",
       "</div>"
      ],
      "text/plain": [
       "      seller_type  bedroom layout_type     property_type       locality  \\\n",
       "22795       OWNER      1.0         BHK         Apartment      Chinchwad   \n",
       "22796       OWNER      1.0          RK  Studio Apartment  Wadgaon Sheri   \n",
       "22797       OWNER      1.0         BHK         Apartment        Kothrud   \n",
       "22798       AGENT      1.0         BHK         Apartment          Wakad   \n",
       "22799       AGENT      2.0         BHK         Apartment         Alandi   \n",
       "\n",
       "        price   area    furnish_type     bathroom  city  \n",
       "22795  13,250  650.0  Semi-Furnished  1 bathrooms  Pune  \n",
       "22796   7,000  350.0     Unfurnished  1 bathrooms  Pune  \n",
       "22797   8,500  389.0  Semi-Furnished  1 bathrooms  Pune  \n",
       "22798  16,500  670.0  Semi-Furnished  2 bathrooms  Pune  \n",
       "22799  12,000  800.0     Unfurnished  2 bathrooms  Pune  "
      ]
     },
     "execution_count": 150,
     "metadata": {},
     "output_type": "execute_result"
    }
   ],
   "source": [
    "df.tail()"
   ]
  },
  {
   "cell_type": "code",
   "execution_count": 151,
   "metadata": {},
   "outputs": [
    {
     "data": {
      "text/plain": [
       "(196838, 10)"
      ]
     },
     "execution_count": 151,
     "metadata": {},
     "output_type": "execute_result"
    }
   ],
   "source": [
    "df.shape"
   ]
  },
  {
   "cell_type": "code",
   "execution_count": 152,
   "metadata": {},
   "outputs": [
    {
     "data": {
      "text/plain": [
       "seller_type      1064\n",
       "bedroom          1061\n",
       "layout_type      1061\n",
       "property_type    1061\n",
       "locality         1062\n",
       "price            1061\n",
       "area             1061\n",
       "furnish_type     1061\n",
       "bathroom         3358\n",
       "city                0\n",
       "dtype: int64"
      ]
     },
     "execution_count": 152,
     "metadata": {},
     "output_type": "execute_result"
    }
   ],
   "source": [
    "df.isnull().sum()"
   ]
  },
  {
   "cell_type": "code",
   "execution_count": 153,
   "metadata": {},
   "outputs": [
    {
     "name": "stdout",
     "output_type": "stream",
     "text": [
      "<class 'pandas.core.frame.DataFrame'>\n",
      "Index: 196838 entries, 0 to 22799\n",
      "Data columns (total 10 columns):\n",
      " #   Column         Non-Null Count   Dtype  \n",
      "---  ------         --------------   -----  \n",
      " 0   seller_type    195774 non-null  object \n",
      " 1   bedroom        195777 non-null  float64\n",
      " 2   layout_type    195777 non-null  object \n",
      " 3   property_type  195777 non-null  object \n",
      " 4   locality       195776 non-null  object \n",
      " 5   price          195777 non-null  object \n",
      " 6   area           195777 non-null  float64\n",
      " 7   furnish_type   195777 non-null  object \n",
      " 8   bathroom       193480 non-null  object \n",
      " 9   city           196838 non-null  object \n",
      "dtypes: float64(2), object(8)\n",
      "memory usage: 16.5+ MB\n"
     ]
    }
   ],
   "source": [
    "df.info()"
   ]
  },
  {
   "cell_type": "code",
   "execution_count": 154,
   "metadata": {},
   "outputs": [
    {
     "data": {
      "text/plain": [
       "seller_type      1064\n",
       "bedroom          1061\n",
       "layout_type      1061\n",
       "property_type    1061\n",
       "locality         1062\n",
       "price            1061\n",
       "area             1061\n",
       "furnish_type     1061\n",
       "bathroom         3358\n",
       "city                0\n",
       "dtype: int64"
      ]
     },
     "execution_count": 154,
     "metadata": {},
     "output_type": "execute_result"
    }
   ],
   "source": [
    "df.isnull().sum()"
   ]
  },
  {
   "cell_type": "code",
   "execution_count": 155,
   "metadata": {},
   "outputs": [
    {
     "data": {
      "text/html": [
       "<div>\n",
       "<style scoped>\n",
       "    .dataframe tbody tr th:only-of-type {\n",
       "        vertical-align: middle;\n",
       "    }\n",
       "\n",
       "    .dataframe tbody tr th {\n",
       "        vertical-align: top;\n",
       "    }\n",
       "\n",
       "    .dataframe thead th {\n",
       "        text-align: right;\n",
       "    }\n",
       "</style>\n",
       "<table border=\"1\" class=\"dataframe\">\n",
       "  <thead>\n",
       "    <tr style=\"text-align: right;\">\n",
       "      <th></th>\n",
       "      <th>seller_type</th>\n",
       "      <th>bedroom</th>\n",
       "      <th>layout_type</th>\n",
       "      <th>property_type</th>\n",
       "      <th>locality</th>\n",
       "      <th>price</th>\n",
       "      <th>area</th>\n",
       "      <th>furnish_type</th>\n",
       "      <th>bathroom</th>\n",
       "      <th>city</th>\n",
       "    </tr>\n",
       "  </thead>\n",
       "  <tbody>\n",
       "    <tr>\n",
       "      <th>6440</th>\n",
       "      <td>NaN</td>\n",
       "      <td>NaN</td>\n",
       "      <td>NaN</td>\n",
       "      <td>NaN</td>\n",
       "      <td>NaN</td>\n",
       "      <td>NaN</td>\n",
       "      <td>NaN</td>\n",
       "      <td>NaN</td>\n",
       "      <td>NaN</td>\n",
       "      <td>Chennai</td>\n",
       "    </tr>\n",
       "    <tr>\n",
       "      <th>6441</th>\n",
       "      <td>NaN</td>\n",
       "      <td>NaN</td>\n",
       "      <td>NaN</td>\n",
       "      <td>NaN</td>\n",
       "      <td>NaN</td>\n",
       "      <td>NaN</td>\n",
       "      <td>NaN</td>\n",
       "      <td>NaN</td>\n",
       "      <td>NaN</td>\n",
       "      <td>Chennai</td>\n",
       "    </tr>\n",
       "    <tr>\n",
       "      <th>6442</th>\n",
       "      <td>NaN</td>\n",
       "      <td>NaN</td>\n",
       "      <td>NaN</td>\n",
       "      <td>NaN</td>\n",
       "      <td>NaN</td>\n",
       "      <td>NaN</td>\n",
       "      <td>NaN</td>\n",
       "      <td>NaN</td>\n",
       "      <td>NaN</td>\n",
       "      <td>Chennai</td>\n",
       "    </tr>\n",
       "    <tr>\n",
       "      <th>6443</th>\n",
       "      <td>NaN</td>\n",
       "      <td>NaN</td>\n",
       "      <td>NaN</td>\n",
       "      <td>NaN</td>\n",
       "      <td>NaN</td>\n",
       "      <td>NaN</td>\n",
       "      <td>NaN</td>\n",
       "      <td>NaN</td>\n",
       "      <td>NaN</td>\n",
       "      <td>Chennai</td>\n",
       "    </tr>\n",
       "    <tr>\n",
       "      <th>6444</th>\n",
       "      <td>NaN</td>\n",
       "      <td>NaN</td>\n",
       "      <td>NaN</td>\n",
       "      <td>NaN</td>\n",
       "      <td>NaN</td>\n",
       "      <td>NaN</td>\n",
       "      <td>NaN</td>\n",
       "      <td>NaN</td>\n",
       "      <td>NaN</td>\n",
       "      <td>Chennai</td>\n",
       "    </tr>\n",
       "  </tbody>\n",
       "</table>\n",
       "</div>"
      ],
      "text/plain": [
       "     seller_type  bedroom layout_type property_type locality price  area  \\\n",
       "6440         NaN      NaN         NaN           NaN      NaN   NaN   NaN   \n",
       "6441         NaN      NaN         NaN           NaN      NaN   NaN   NaN   \n",
       "6442         NaN      NaN         NaN           NaN      NaN   NaN   NaN   \n",
       "6443         NaN      NaN         NaN           NaN      NaN   NaN   NaN   \n",
       "6444         NaN      NaN         NaN           NaN      NaN   NaN   NaN   \n",
       "\n",
       "     furnish_type bathroom     city  \n",
       "6440          NaN      NaN  Chennai  \n",
       "6441          NaN      NaN  Chennai  \n",
       "6442          NaN      NaN  Chennai  \n",
       "6443          NaN      NaN  Chennai  \n",
       "6444          NaN      NaN  Chennai  "
      ]
     },
     "execution_count": 155,
     "metadata": {},
     "output_type": "execute_result"
    }
   ],
   "source": [
    "df[df[\"seller_type\"].isnull()].head()"
   ]
  },
  {
   "cell_type": "code",
   "execution_count": 156,
   "metadata": {},
   "outputs": [
    {
     "data": {
      "text/plain": [
       "(1064, 10)"
      ]
     },
     "execution_count": 156,
     "metadata": {},
     "output_type": "execute_result"
    }
   ],
   "source": [
    "df[df[\"seller_type\"].isnull()].shape"
   ]
  },
  {
   "cell_type": "code",
   "execution_count": 157,
   "metadata": {},
   "outputs": [
    {
     "data": {
      "text/html": [
       "<div>\n",
       "<style scoped>\n",
       "    .dataframe tbody tr th:only-of-type {\n",
       "        vertical-align: middle;\n",
       "    }\n",
       "\n",
       "    .dataframe tbody tr th {\n",
       "        vertical-align: top;\n",
       "    }\n",
       "\n",
       "    .dataframe thead th {\n",
       "        text-align: right;\n",
       "    }\n",
       "</style>\n",
       "<table border=\"1\" class=\"dataframe\">\n",
       "  <thead>\n",
       "    <tr style=\"text-align: right;\">\n",
       "      <th></th>\n",
       "      <th>seller_type</th>\n",
       "      <th>bedroom</th>\n",
       "      <th>layout_type</th>\n",
       "      <th>property_type</th>\n",
       "      <th>locality</th>\n",
       "      <th>price</th>\n",
       "      <th>area</th>\n",
       "      <th>furnish_type</th>\n",
       "      <th>bathroom</th>\n",
       "      <th>city</th>\n",
       "    </tr>\n",
       "  </thead>\n",
       "  <tbody>\n",
       "    <tr>\n",
       "      <th>0</th>\n",
       "      <td>OWNER</td>\n",
       "      <td>2.0</td>\n",
       "      <td>BHK</td>\n",
       "      <td>Apartment</td>\n",
       "      <td>Bodakdev</td>\n",
       "      <td>20,000</td>\n",
       "      <td>1450.0</td>\n",
       "      <td>Furnished</td>\n",
       "      <td>2 bathrooms</td>\n",
       "      <td>Ahmedabad</td>\n",
       "    </tr>\n",
       "    <tr>\n",
       "      <th>1</th>\n",
       "      <td>OWNER</td>\n",
       "      <td>1.0</td>\n",
       "      <td>RK</td>\n",
       "      <td>Studio Apartment</td>\n",
       "      <td>CG Road</td>\n",
       "      <td>7,350</td>\n",
       "      <td>210.0</td>\n",
       "      <td>Semi-Furnished</td>\n",
       "      <td>1 bathrooms</td>\n",
       "      <td>Ahmedabad</td>\n",
       "    </tr>\n",
       "  </tbody>\n",
       "</table>\n",
       "</div>"
      ],
      "text/plain": [
       "  seller_type  bedroom layout_type     property_type  locality   price  \\\n",
       "0       OWNER      2.0         BHK         Apartment  Bodakdev  20,000   \n",
       "1       OWNER      1.0          RK  Studio Apartment   CG Road   7,350   \n",
       "\n",
       "     area    furnish_type     bathroom       city  \n",
       "0  1450.0       Furnished  2 bathrooms  Ahmedabad  \n",
       "1   210.0  Semi-Furnished  1 bathrooms  Ahmedabad  "
      ]
     },
     "execution_count": 157,
     "metadata": {},
     "output_type": "execute_result"
    }
   ],
   "source": [
    "df.head(2)"
   ]
  },
  {
   "cell_type": "markdown",
   "metadata": {},
   "source": [
    "# Handling Missing Values"
   ]
  },
  {
   "cell_type": "code",
   "execution_count": 158,
   "metadata": {},
   "outputs": [],
   "source": [
    "df['bathroom'] = df['bathroom'].astype(str)\n",
    "df['bathroom'] = df['bathroom'].str.extract('(\\d+)').astype(float)\n",
    "mean_value = df['bathroom'].mean(skipna=True)\n",
    "df['bathroom'].fillna(mean_value, inplace=True)\n",
    "df['bathroom'] = df['bathroom'].astype(int)"
   ]
  },
  {
   "cell_type": "code",
   "execution_count": 159,
   "metadata": {},
   "outputs": [
    {
     "data": {
      "text/html": [
       "<div>\n",
       "<style scoped>\n",
       "    .dataframe tbody tr th:only-of-type {\n",
       "        vertical-align: middle;\n",
       "    }\n",
       "\n",
       "    .dataframe tbody tr th {\n",
       "        vertical-align: top;\n",
       "    }\n",
       "\n",
       "    .dataframe thead th {\n",
       "        text-align: right;\n",
       "    }\n",
       "</style>\n",
       "<table border=\"1\" class=\"dataframe\">\n",
       "  <thead>\n",
       "    <tr style=\"text-align: right;\">\n",
       "      <th></th>\n",
       "      <th>seller_type</th>\n",
       "      <th>bedroom</th>\n",
       "      <th>layout_type</th>\n",
       "      <th>property_type</th>\n",
       "      <th>locality</th>\n",
       "      <th>price</th>\n",
       "      <th>area</th>\n",
       "      <th>furnish_type</th>\n",
       "      <th>bathroom</th>\n",
       "      <th>city</th>\n",
       "    </tr>\n",
       "  </thead>\n",
       "  <tbody>\n",
       "    <tr>\n",
       "      <th>0</th>\n",
       "      <td>OWNER</td>\n",
       "      <td>2.0</td>\n",
       "      <td>BHK</td>\n",
       "      <td>Apartment</td>\n",
       "      <td>Bodakdev</td>\n",
       "      <td>20,000</td>\n",
       "      <td>1450.0</td>\n",
       "      <td>Furnished</td>\n",
       "      <td>2</td>\n",
       "      <td>Ahmedabad</td>\n",
       "    </tr>\n",
       "    <tr>\n",
       "      <th>1</th>\n",
       "      <td>OWNER</td>\n",
       "      <td>1.0</td>\n",
       "      <td>RK</td>\n",
       "      <td>Studio Apartment</td>\n",
       "      <td>CG Road</td>\n",
       "      <td>7,350</td>\n",
       "      <td>210.0</td>\n",
       "      <td>Semi-Furnished</td>\n",
       "      <td>1</td>\n",
       "      <td>Ahmedabad</td>\n",
       "    </tr>\n",
       "    <tr>\n",
       "      <th>2</th>\n",
       "      <td>OWNER</td>\n",
       "      <td>3.0</td>\n",
       "      <td>BHK</td>\n",
       "      <td>Apartment</td>\n",
       "      <td>Jodhpur</td>\n",
       "      <td>22,000</td>\n",
       "      <td>1900.0</td>\n",
       "      <td>Unfurnished</td>\n",
       "      <td>3</td>\n",
       "      <td>Ahmedabad</td>\n",
       "    </tr>\n",
       "    <tr>\n",
       "      <th>3</th>\n",
       "      <td>OWNER</td>\n",
       "      <td>2.0</td>\n",
       "      <td>BHK</td>\n",
       "      <td>Independent House</td>\n",
       "      <td>Sanand</td>\n",
       "      <td>13,000</td>\n",
       "      <td>1285.0</td>\n",
       "      <td>Semi-Furnished</td>\n",
       "      <td>2</td>\n",
       "      <td>Ahmedabad</td>\n",
       "    </tr>\n",
       "    <tr>\n",
       "      <th>4</th>\n",
       "      <td>OWNER</td>\n",
       "      <td>2.0</td>\n",
       "      <td>BHK</td>\n",
       "      <td>Independent House</td>\n",
       "      <td>Navrangpura</td>\n",
       "      <td>18,000</td>\n",
       "      <td>1600.0</td>\n",
       "      <td>Furnished</td>\n",
       "      <td>2</td>\n",
       "      <td>Ahmedabad</td>\n",
       "    </tr>\n",
       "  </tbody>\n",
       "</table>\n",
       "</div>"
      ],
      "text/plain": [
       "  seller_type  bedroom layout_type      property_type     locality   price  \\\n",
       "0       OWNER      2.0         BHK          Apartment     Bodakdev  20,000   \n",
       "1       OWNER      1.0          RK   Studio Apartment      CG Road   7,350   \n",
       "2       OWNER      3.0         BHK          Apartment      Jodhpur  22,000   \n",
       "3       OWNER      2.0         BHK  Independent House       Sanand  13,000   \n",
       "4       OWNER      2.0         BHK  Independent House  Navrangpura  18,000   \n",
       "\n",
       "     area    furnish_type  bathroom       city  \n",
       "0  1450.0       Furnished         2  Ahmedabad  \n",
       "1   210.0  Semi-Furnished         1  Ahmedabad  \n",
       "2  1900.0     Unfurnished         3  Ahmedabad  \n",
       "3  1285.0  Semi-Furnished         2  Ahmedabad  \n",
       "4  1600.0       Furnished         2  Ahmedabad  "
      ]
     },
     "execution_count": 159,
     "metadata": {},
     "output_type": "execute_result"
    }
   ],
   "source": [
    "df.head()"
   ]
  },
  {
   "cell_type": "code",
   "execution_count": 160,
   "metadata": {},
   "outputs": [
    {
     "name": "stdout",
     "output_type": "stream",
     "text": [
      "<class 'pandas.core.frame.DataFrame'>\n",
      "Index: 196838 entries, 0 to 22799\n",
      "Data columns (total 10 columns):\n",
      " #   Column         Non-Null Count   Dtype  \n",
      "---  ------         --------------   -----  \n",
      " 0   seller_type    195774 non-null  object \n",
      " 1   bedroom        195777 non-null  float64\n",
      " 2   layout_type    195777 non-null  object \n",
      " 3   property_type  195777 non-null  object \n",
      " 4   locality       195776 non-null  object \n",
      " 5   price          195777 non-null  object \n",
      " 6   area           195777 non-null  float64\n",
      " 7   furnish_type   195777 non-null  object \n",
      " 8   bathroom       196838 non-null  int32  \n",
      " 9   city           196838 non-null  object \n",
      "dtypes: float64(2), int32(1), object(7)\n",
      "memory usage: 15.8+ MB\n"
     ]
    }
   ],
   "source": [
    "df.info()"
   ]
  },
  {
   "cell_type": "code",
   "execution_count": 161,
   "metadata": {},
   "outputs": [],
   "source": [
    "# handling missing values for bedroom\n",
    "mean = df['bedroom'].mean(skipna=True)\n",
    "df['bedroom'].fillna(mean, inplace=True)\n",
    "df['bedroom'] = df['bedroom'].astype(int)"
   ]
  },
  {
   "cell_type": "code",
   "execution_count": 162,
   "metadata": {},
   "outputs": [
    {
     "data": {
      "text/html": [
       "<div>\n",
       "<style scoped>\n",
       "    .dataframe tbody tr th:only-of-type {\n",
       "        vertical-align: middle;\n",
       "    }\n",
       "\n",
       "    .dataframe tbody tr th {\n",
       "        vertical-align: top;\n",
       "    }\n",
       "\n",
       "    .dataframe thead th {\n",
       "        text-align: right;\n",
       "    }\n",
       "</style>\n",
       "<table border=\"1\" class=\"dataframe\">\n",
       "  <thead>\n",
       "    <tr style=\"text-align: right;\">\n",
       "      <th></th>\n",
       "      <th>seller_type</th>\n",
       "      <th>bedroom</th>\n",
       "      <th>layout_type</th>\n",
       "      <th>property_type</th>\n",
       "      <th>locality</th>\n",
       "      <th>price</th>\n",
       "      <th>area</th>\n",
       "      <th>furnish_type</th>\n",
       "      <th>bathroom</th>\n",
       "      <th>city</th>\n",
       "    </tr>\n",
       "  </thead>\n",
       "  <tbody>\n",
       "    <tr>\n",
       "      <th>0</th>\n",
       "      <td>OWNER</td>\n",
       "      <td>2</td>\n",
       "      <td>BHK</td>\n",
       "      <td>Apartment</td>\n",
       "      <td>Bodakdev</td>\n",
       "      <td>20,000</td>\n",
       "      <td>1450.0</td>\n",
       "      <td>Furnished</td>\n",
       "      <td>2</td>\n",
       "      <td>Ahmedabad</td>\n",
       "    </tr>\n",
       "  </tbody>\n",
       "</table>\n",
       "</div>"
      ],
      "text/plain": [
       "  seller_type  bedroom layout_type property_type  locality   price    area  \\\n",
       "0       OWNER        2         BHK     Apartment  Bodakdev  20,000  1450.0   \n",
       "\n",
       "  furnish_type  bathroom       city  \n",
       "0    Furnished         2  Ahmedabad  "
      ]
     },
     "execution_count": 162,
     "metadata": {},
     "output_type": "execute_result"
    }
   ],
   "source": [
    "df.head(1)"
   ]
  },
  {
   "cell_type": "code",
   "execution_count": 163,
   "metadata": {},
   "outputs": [],
   "source": [
    "#Handling missing values for area\n",
    "mean = df['area'].mean(skipna=True)\n",
    "df['area'].fillna(mean, inplace=True)\n",
    "df['area'] = df['area'].astype(int)"
   ]
  },
  {
   "cell_type": "code",
   "execution_count": 167,
   "metadata": {},
   "outputs": [],
   "source": [
    "#Handling missing values for price\n",
    "df['price'] = df['price'].astype(str)\n",
    "df['price'] = df['price'].str.replace(',', '').astype(float)\n",
    "mean_value = df['price'].mean(skipna=True)\n",
    "df['price'].fillna(mean_value, inplace=True)\n",
    "df['price'] = df['price'].astype(int)"
   ]
  },
  {
   "cell_type": "code",
   "execution_count": 200,
   "metadata": {},
   "outputs": [
    {
     "data": {
      "image/png": "[encoded data removed]",
      "text/plain": [
       "<Figure size 1000x600 with 1 Axes>"
      ]
     },
     "metadata": {},
     "output_type": "display_data"
    }
   ],
   "source": [
    "plt.figure(figsize=(10, 6))\n",
    "\n",
    "sns.histplot(df['area'], bins=30, color='blue', alpha=0.5, label='Area')\n",
    "sns.histplot(df['price'], bins=30, color='orange', alpha=0.5, label='Price')\n",
    "\n",
    "plt.xlabel('Value')\n",
    "plt.ylabel('Frequency')\n",
    "plt.title('Histogram of Area and Price')\n",
    "plt.legend()\n",
    "plt.show()"
   ]
  },
  {
   "cell_type": "code",
   "execution_count": 168,
   "metadata": {},
   "outputs": [
    {
     "name": "stdout",
     "output_type": "stream",
     "text": [
      "<class 'pandas.core.frame.DataFrame'>\n",
      "Index: 196838 entries, 0 to 22799\n",
      "Data columns (total 10 columns):\n",
      " #   Column         Non-Null Count   Dtype \n",
      "---  ------         --------------   ----- \n",
      " 0   seller_type    195774 non-null  object\n",
      " 1   bedroom        196838 non-null  int32 \n",
      " 2   layout_type    195777 non-null  object\n",
      " 3   property_type  195777 non-null  object\n",
      " 4   locality       195776 non-null  object\n",
      " 5   price          196838 non-null  int32 \n",
      " 6   area           196838 non-null  int32 \n",
      " 7   furnish_type   195777 non-null  object\n",
      " 8   bathroom       196838 non-null  int32 \n",
      " 9   city           196838 non-null  object\n",
      "dtypes: int32(4), object(6)\n",
      "memory usage: 13.5+ MB\n"
     ]
    }
   ],
   "source": [
    "df.info()"
   ]
  },
  {
   "cell_type": "code",
   "execution_count": 169,
   "metadata": {},
   "outputs": [
    {
     "data": {
      "text/html": [
       "<div>\n",
       "<style scoped>\n",
       "    .dataframe tbody tr th:only-of-type {\n",
       "        vertical-align: middle;\n",
       "    }\n",
       "\n",
       "    .dataframe tbody tr th {\n",
       "        vertical-align: top;\n",
       "    }\n",
       "\n",
       "    .dataframe thead th {\n",
       "        text-align: right;\n",
       "    }\n",
       "</style>\n",
       "<table border=\"1\" class=\"dataframe\">\n",
       "  <thead>\n",
       "    <tr style=\"text-align: right;\">\n",
       "      <th></th>\n",
       "      <th>seller_type</th>\n",
       "      <th>bedroom</th>\n",
       "      <th>layout_type</th>\n",
       "      <th>property_type</th>\n",
       "      <th>locality</th>\n",
       "      <th>price</th>\n",
       "      <th>area</th>\n",
       "      <th>furnish_type</th>\n",
       "      <th>bathroom</th>\n",
       "      <th>city</th>\n",
       "    </tr>\n",
       "  </thead>\n",
       "  <tbody>\n",
       "    <tr>\n",
       "      <th>0</th>\n",
       "      <td>OWNER</td>\n",
       "      <td>2</td>\n",
       "      <td>BHK</td>\n",
       "      <td>Apartment</td>\n",
       "      <td>Bodakdev</td>\n",
       "      <td>20000</td>\n",
       "      <td>1450</td>\n",
       "      <td>Furnished</td>\n",
       "      <td>2</td>\n",
       "      <td>Ahmedabad</td>\n",
       "    </tr>\n",
       "  </tbody>\n",
       "</table>\n",
       "</div>"
      ],
      "text/plain": [
       "  seller_type  bedroom layout_type property_type  locality  price  area  \\\n",
       "0       OWNER        2         BHK     Apartment  Bodakdev  20000  1450   \n",
       "\n",
       "  furnish_type  bathroom       city  \n",
       "0    Furnished         2  Ahmedabad  "
      ]
     },
     "execution_count": 169,
     "metadata": {},
     "output_type": "execute_result"
    }
   ],
   "source": [
    "df.head(1)"
   ]
  },
  {
   "cell_type": "code",
   "execution_count": 171,
   "metadata": {},
   "outputs": [
    {
     "data": {
      "text/html": [
       "<div>\n",
       "<style scoped>\n",
       "    .dataframe tbody tr th:only-of-type {\n",
       "        vertical-align: middle;\n",
       "    }\n",
       "\n",
       "    .dataframe tbody tr th {\n",
       "        vertical-align: top;\n",
       "    }\n",
       "\n",
       "    .dataframe thead th {\n",
       "        text-align: right;\n",
       "    }\n",
       "</style>\n",
       "<table border=\"1\" class=\"dataframe\">\n",
       "  <thead>\n",
       "    <tr style=\"text-align: right;\">\n",
       "      <th></th>\n",
       "      <th>bedroom</th>\n",
       "      <th>price</th>\n",
       "      <th>area</th>\n",
       "      <th>bathroom</th>\n",
       "    </tr>\n",
       "  </thead>\n",
       "  <tbody>\n",
       "    <tr>\n",
       "      <th>count</th>\n",
       "      <td>196838.000000</td>\n",
       "      <td>196838.000000</td>\n",
       "      <td>196838.000000</td>\n",
       "      <td>196838.000000</td>\n",
       "    </tr>\n",
       "    <tr>\n",
       "      <th>mean</th>\n",
       "      <td>2.077048</td>\n",
       "      <td>22736.242306</td>\n",
       "      <td>1260.519839</td>\n",
       "      <td>2.059409</td>\n",
       "    </tr>\n",
       "    <tr>\n",
       "      <th>std</th>\n",
       "      <td>0.954753</td>\n",
       "      <td>17997.094016</td>\n",
       "      <td>1037.852533</td>\n",
       "      <td>0.929336</td>\n",
       "    </tr>\n",
       "    <tr>\n",
       "      <th>min</th>\n",
       "      <td>1.000000</td>\n",
       "      <td>1.000000</td>\n",
       "      <td>3.000000</td>\n",
       "      <td>1.000000</td>\n",
       "    </tr>\n",
       "    <tr>\n",
       "      <th>25%</th>\n",
       "      <td>1.000000</td>\n",
       "      <td>11000.000000</td>\n",
       "      <td>650.000000</td>\n",
       "      <td>1.000000</td>\n",
       "    </tr>\n",
       "    <tr>\n",
       "      <th>50%</th>\n",
       "      <td>2.000000</td>\n",
       "      <td>18000.000000</td>\n",
       "      <td>1000.000000</td>\n",
       "      <td>2.000000</td>\n",
       "    </tr>\n",
       "    <tr>\n",
       "      <th>75%</th>\n",
       "      <td>3.000000</td>\n",
       "      <td>30000.000000</td>\n",
       "      <td>1426.750000</td>\n",
       "      <td>2.000000</td>\n",
       "    </tr>\n",
       "    <tr>\n",
       "      <th>max</th>\n",
       "      <td>15.000000</td>\n",
       "      <td>99999.000000</td>\n",
       "      <td>19800.000000</td>\n",
       "      <td>19.000000</td>\n",
       "    </tr>\n",
       "  </tbody>\n",
       "</table>\n",
       "</div>"
      ],
      "text/plain": [
       "             bedroom          price           area       bathroom\n",
       "count  196838.000000  196838.000000  196838.000000  196838.000000\n",
       "mean        2.077048   22736.242306    1260.519839       2.059409\n",
       "std         0.954753   17997.094016    1037.852533       0.929336\n",
       "min         1.000000       1.000000       3.000000       1.000000\n",
       "25%         1.000000   11000.000000     650.000000       1.000000\n",
       "50%         2.000000   18000.000000    1000.000000       2.000000\n",
       "75%         3.000000   30000.000000    1426.750000       2.000000\n",
       "max        15.000000   99999.000000   19800.000000      19.000000"
      ]
     },
     "execution_count": 171,
     "metadata": {},
     "output_type": "execute_result"
    }
   ],
   "source": [
    "df.describe()"
   ]
  },
  {
   "cell_type": "code",
   "execution_count": 172,
   "metadata": {},
   "outputs": [
    {
     "data": {
      "text/plain": [
       "seller_type      1064\n",
       "bedroom             0\n",
       "layout_type      1061\n",
       "property_type    1061\n",
       "locality         1062\n",
       "price               0\n",
       "area                0\n",
       "furnish_type     1061\n",
       "bathroom            0\n",
       "city                0\n",
       "dtype: int64"
      ]
     },
     "execution_count": 172,
     "metadata": {},
     "output_type": "execute_result"
    }
   ],
   "source": [
    "df.isnull().sum()"
   ]
  },
  {
   "cell_type": "code",
   "execution_count": 183,
   "metadata": {},
   "outputs": [
    {
     "data": {
      "text/plain": [
       "<Axes: >"
      ]
     },
     "execution_count": 183,
     "metadata": {},
     "output_type": "execute_result"
    },
    {
     "data": {
      "image/png": "[encoded data removed]",
      "text/plain": [
       "<Figure size 640x480 with 1 Axes>"
      ]
     },
     "metadata": {},
     "output_type": "display_data"
    }
   ],
   "source": [
    "sns.heatmap(df.isnull(),yticklabels=False,cbar=False)"
   ]
  },
  {
   "cell_type": "code",
   "execution_count": 191,
   "metadata": {},
   "outputs": [],
   "source": [
    "#Handling missing values for categorical variables\n",
    "df['seller_type']=df['seller_type'].fillna(df['seller_type'].mode()[0])\n",
    "df['layout_type']=df['layout_type'].fillna(df['layout_type'].mode()[0])\n",
    "df['property_type']=df['property_type'].fillna(df['property_type'].mode()[0])\n",
    "df['locality']=df['locality'].fillna(df['locality'].mode()[0])\n",
    "df['furnish_type']=df['furnish_type'].fillna(df['furnish_type'].mode()[0])"
   ]
  },
  {
   "cell_type": "code",
   "execution_count": 192,
   "metadata": {},
   "outputs": [
    {
     "data": {
      "text/plain": [
       "seller_type      0\n",
       "bedroom          0\n",
       "layout_type      0\n",
       "property_type    0\n",
       "locality         0\n",
       "price            0\n",
       "area             0\n",
       "furnish_type     0\n",
       "bathroom         0\n",
       "city             0\n",
       "dtype: int64"
      ]
     },
     "execution_count": 192,
     "metadata": {},
     "output_type": "execute_result"
    }
   ],
   "source": [
    "df.isnull().sum()"
   ]
  },
  {
   "cell_type": "code",
   "execution_count": 196,
   "metadata": {},
   "outputs": [
    {
     "data": {
      "text/plain": [
       "<Axes: >"
      ]
     },
     "execution_count": 196,
     "metadata": {},
     "output_type": "execute_result"
    },
    {
     "data": {
      "image/png": "[encoded data removed]",
      "text/plain": [
       "<Figure size 640x480 with 2 Axes>"
      ]
     },
     "metadata": {},
     "output_type": "display_data"
    }
   ],
   "source": [
    "sns.heatmap(df.isnull())"
   ]
  },
  {
   "cell_type": "code",
   "execution_count": 201,
   "metadata": {},
   "outputs": [
    {
     "name": "stdout",
     "output_type": "stream",
     "text": [
      "<class 'pandas.core.frame.DataFrame'>\n",
      "Index: 196838 entries, 0 to 22799\n",
      "Data columns (total 10 columns):\n",
      " #   Column         Non-Null Count   Dtype \n",
      "---  ------         --------------   ----- \n",
      " 0   seller_type    196838 non-null  object\n",
      " 1   bedroom        196838 non-null  int32 \n",
      " 2   layout_type    196838 non-null  object\n",
      " 3   property_type  196838 non-null  object\n",
      " 4   locality       196838 non-null  object\n",
      " 5   price          196838 non-null  int32 \n",
      " 6   area           196838 non-null  int32 \n",
      " 7   furnish_type   196838 non-null  object\n",
      " 8   bathroom       196838 non-null  int32 \n",
      " 9   city           196838 non-null  object\n",
      "dtypes: int32(4), object(6)\n",
      "memory usage: 13.5+ MB\n"
     ]
    }
   ],
   "source": [
    "df.info()"
   ]
  },
  {
   "cell_type": "code",
   "execution_count": 206,
   "metadata": {},
   "outputs": [
    {
     "data": {
      "text/plain": [
       "array(['OWNER', 'AGENT', 'BUILDER'], dtype=object)"
      ]
     },
     "execution_count": 206,
     "metadata": {},
     "output_type": "execute_result"
    }
   ],
   "source": [
    "df.seller_type.unique()"
   ]
  },
  {
   "cell_type": "markdown",
   "metadata": {},
   "source": [
    "# Ordinal Encoding"
   ]
  },
  {
   "cell_type": "code",
   "execution_count": 208,
   "metadata": {},
   "outputs": [
    {
     "data": {
      "text/plain": [
       "array(['BHK', 'RK'], dtype=object)"
      ]
     },
     "execution_count": 208,
     "metadata": {},
     "output_type": "execute_result"
    }
   ],
   "source": [
    "df.layout_type.unique()"
   ]
  },
  {
   "cell_type": "code",
   "execution_count": 210,
   "metadata": {},
   "outputs": [
    {
     "data": {
      "text/plain": [
       "array(['Apartment', 'Studio Apartment', 'Independent House', 'Villa',\n",
       "       'Independent Floor', 'Penthouse'], dtype=object)"
      ]
     },
     "execution_count": 210,
     "metadata": {},
     "output_type": "execute_result"
    }
   ],
   "source": [
    "df.property_type.unique()"
   ]
  },
  {
   "cell_type": "code",
   "execution_count": 215,
   "metadata": {},
   "outputs": [],
   "source": [
    "import category_encoders as ce"
   ]
  },
  {
   "cell_type": "code",
   "execution_count": 216,
   "metadata": {},
   "outputs": [],
   "source": [
    "encoder = ce.TargetEncoder(cols=['locality'])\n",
    "\n",
    "encoder.fit(df['locality'], df['price'])\n",
    "df['locality_encoded'] = encoder.transform(df['locality'], df['price'])\n"
   ]
  },
  {
   "cell_type": "code",
   "execution_count": 221,
   "metadata": {},
   "outputs": [
    {
     "data": {
      "text/html": [
       "<div>\n",
       "<style scoped>\n",
       "    .dataframe tbody tr th:only-of-type {\n",
       "        vertical-align: middle;\n",
       "    }\n",
       "\n",
       "    .dataframe tbody tr th {\n",
       "        vertical-align: top;\n",
       "    }\n",
       "\n",
       "    .dataframe thead th {\n",
       "        text-align: right;\n",
       "    }\n",
       "</style>\n",
       "<table border=\"1\" class=\"dataframe\">\n",
       "  <thead>\n",
       "    <tr style=\"text-align: right;\">\n",
       "      <th></th>\n",
       "      <th>seller_type</th>\n",
       "      <th>bedroom</th>\n",
       "      <th>layout_type</th>\n",
       "      <th>property_type</th>\n",
       "      <th>price</th>\n",
       "      <th>area</th>\n",
       "      <th>furnish_type</th>\n",
       "      <th>bathroom</th>\n",
       "      <th>locality_encoded</th>\n",
       "      <th>city_encoded</th>\n",
       "    </tr>\n",
       "  </thead>\n",
       "  <tbody>\n",
       "    <tr>\n",
       "      <th>0</th>\n",
       "      <td>OWNER</td>\n",
       "      <td>2</td>\n",
       "      <td>BHK</td>\n",
       "      <td>Apartment</td>\n",
       "      <td>20000</td>\n",
       "      <td>1450</td>\n",
       "      <td>Furnished</td>\n",
       "      <td>2</td>\n",
       "      <td>28877.514029</td>\n",
       "      <td>22404.599245</td>\n",
       "    </tr>\n",
       "    <tr>\n",
       "      <th>1</th>\n",
       "      <td>OWNER</td>\n",
       "      <td>1</td>\n",
       "      <td>RK</td>\n",
       "      <td>Studio Apartment</td>\n",
       "      <td>7350</td>\n",
       "      <td>210</td>\n",
       "      <td>Semi-Furnished</td>\n",
       "      <td>1</td>\n",
       "      <td>23789.037658</td>\n",
       "      <td>22404.599245</td>\n",
       "    </tr>\n",
       "    <tr>\n",
       "      <th>2</th>\n",
       "      <td>OWNER</td>\n",
       "      <td>3</td>\n",
       "      <td>BHK</td>\n",
       "      <td>Apartment</td>\n",
       "      <td>22000</td>\n",
       "      <td>1900</td>\n",
       "      <td>Unfurnished</td>\n",
       "      <td>3</td>\n",
       "      <td>24606.076170</td>\n",
       "      <td>22404.599245</td>\n",
       "    </tr>\n",
       "    <tr>\n",
       "      <th>3</th>\n",
       "      <td>OWNER</td>\n",
       "      <td>2</td>\n",
       "      <td>BHK</td>\n",
       "      <td>Independent House</td>\n",
       "      <td>13000</td>\n",
       "      <td>1285</td>\n",
       "      <td>Semi-Furnished</td>\n",
       "      <td>2</td>\n",
       "      <td>16180.592652</td>\n",
       "      <td>22404.599245</td>\n",
       "    </tr>\n",
       "    <tr>\n",
       "      <th>4</th>\n",
       "      <td>OWNER</td>\n",
       "      <td>2</td>\n",
       "      <td>BHK</td>\n",
       "      <td>Independent House</td>\n",
       "      <td>18000</td>\n",
       "      <td>1600</td>\n",
       "      <td>Furnished</td>\n",
       "      <td>2</td>\n",
       "      <td>26669.834888</td>\n",
       "      <td>22404.599245</td>\n",
       "    </tr>\n",
       "  </tbody>\n",
       "</table>\n",
       "</div>"
      ],
      "text/plain": [
       "  seller_type  bedroom layout_type      property_type  price  area  \\\n",
       "0       OWNER        2         BHK          Apartment  20000  1450   \n",
       "1       OWNER        1          RK   Studio Apartment   7350   210   \n",
       "2       OWNER        3         BHK          Apartment  22000  1900   \n",
       "3       OWNER        2         BHK  Independent House  13000  1285   \n",
       "4       OWNER        2         BHK  Independent House  18000  1600   \n",
       "\n",
       "     furnish_type  bathroom  locality_encoded  city_encoded  \n",
       "0       Furnished         2      28877.514029  22404.599245  \n",
       "1  Semi-Furnished         1      23789.037658  22404.599245  \n",
       "2     Unfurnished         3      24606.076170  22404.599245  \n",
       "3  Semi-Furnished         2      16180.592652  22404.599245  \n",
       "4       Furnished         2      26669.834888  22404.599245  "
      ]
     },
     "execution_count": 221,
     "metadata": {},
     "output_type": "execute_result"
    }
   ],
   "source": [
    "df.head()"
   ]
  },
  {
   "cell_type": "code",
   "execution_count": 218,
   "metadata": {},
   "outputs": [],
   "source": [
    "df.drop(columns=['locality'], inplace=True)"
   ]
  },
  {
   "cell_type": "code",
   "execution_count": 223,
   "metadata": {},
   "outputs": [
    {
     "data": {
      "text/plain": [
       "array(['Furnished', 'Semi-Furnished', 'Unfurnished'], dtype=object)"
      ]
     },
     "execution_count": 223,
     "metadata": {},
     "output_type": "execute_result"
    }
   ],
   "source": [
    "df.furnish_type.unique()"
   ]
  },
  {
   "cell_type": "code",
   "execution_count": 220,
   "metadata": {},
   "outputs": [],
   "source": [
    "encoder = ce.TargetEncoder(cols=['city'])\n",
    "\n",
    "encoder.fit(df['city'], df['price'])\n",
    "df['city_encoded'] = encoder.transform(df['city'], df['price'])\n",
    "df.drop(columns=['city'], inplace=True)"
   ]
  },
  {
   "cell_type": "code",
   "execution_count": 226,
   "metadata": {},
   "outputs": [],
   "source": [
    "from sklearn.impute import SimpleImputer ## HAndling Missing Values\n",
    "from sklearn.preprocessing import StandardScaler # HAndling Feature Scaling\n",
    "from sklearn.preprocessing import OrdinalEncoder # Ordinal Encoding\n",
    "## pipelines\n",
    "from sklearn.pipeline import Pipeline\n",
    "from sklearn.compose import ColumnTransformer"
   ]
  },
  {
   "cell_type": "code",
   "execution_count": 227,
   "metadata": {},
   "outputs": [],
   "source": [
    "X=df.drop(labels=[\"price\"],axis=1)\n",
    "y=df[\"price\"]"
   ]
  },
  {
   "cell_type": "code",
   "execution_count": 230,
   "metadata": {},
   "outputs": [],
   "source": [
    "cat_cols=X.select_dtypes(include=\"object\").columns\n",
    "\n",
    "num_cols=X.select_dtypes(exclude=\"object\").columns"
   ]
  },
  {
   "cell_type": "code",
   "execution_count": 231,
   "metadata": {},
   "outputs": [
    {
     "data": {
      "text/plain": [
       "Index(['seller_type', 'layout_type', 'property_type', 'furnish_type'], dtype='object')"
      ]
     },
     "execution_count": 231,
     "metadata": {},
     "output_type": "execute_result"
    }
   ],
   "source": [
    "cat_cols"
   ]
  },
  {
   "cell_type": "code",
   "execution_count": 232,
   "metadata": {},
   "outputs": [
    {
     "data": {
      "text/plain": [
       "Index(['bedroom', 'area', 'bathroom', 'locality_encoded', 'city_encoded'], dtype='object')"
      ]
     },
     "execution_count": 232,
     "metadata": {},
     "output_type": "execute_result"
    }
   ],
   "source": [
    "num_cols"
   ]
  },
  {
   "cell_type": "code",
   "execution_count": 233,
   "metadata": {},
   "outputs": [
    {
     "data": {
      "text/html": [
       "<div>\n",
       "<style scoped>\n",
       "    .dataframe tbody tr th:only-of-type {\n",
       "        vertical-align: middle;\n",
       "    }\n",
       "\n",
       "    .dataframe tbody tr th {\n",
       "        vertical-align: top;\n",
       "    }\n",
       "\n",
       "    .dataframe thead th {\n",
       "        text-align: right;\n",
       "    }\n",
       "</style>\n",
       "<table border=\"1\" class=\"dataframe\">\n",
       "  <thead>\n",
       "    <tr style=\"text-align: right;\">\n",
       "      <th></th>\n",
       "      <th>seller_type</th>\n",
       "      <th>layout_type</th>\n",
       "      <th>property_type</th>\n",
       "      <th>furnish_type</th>\n",
       "    </tr>\n",
       "  </thead>\n",
       "  <tbody>\n",
       "    <tr>\n",
       "      <th>0</th>\n",
       "      <td>OWNER</td>\n",
       "      <td>BHK</td>\n",
       "      <td>Apartment</td>\n",
       "      <td>Furnished</td>\n",
       "    </tr>\n",
       "    <tr>\n",
       "      <th>1</th>\n",
       "      <td>OWNER</td>\n",
       "      <td>RK</td>\n",
       "      <td>Studio Apartment</td>\n",
       "      <td>Semi-Furnished</td>\n",
       "    </tr>\n",
       "    <tr>\n",
       "      <th>2</th>\n",
       "      <td>OWNER</td>\n",
       "      <td>BHK</td>\n",
       "      <td>Apartment</td>\n",
       "      <td>Unfurnished</td>\n",
       "    </tr>\n",
       "    <tr>\n",
       "      <th>3</th>\n",
       "      <td>OWNER</td>\n",
       "      <td>BHK</td>\n",
       "      <td>Independent House</td>\n",
       "      <td>Semi-Furnished</td>\n",
       "    </tr>\n",
       "    <tr>\n",
       "      <th>4</th>\n",
       "      <td>OWNER</td>\n",
       "      <td>BHK</td>\n",
       "      <td>Independent House</td>\n",
       "      <td>Furnished</td>\n",
       "    </tr>\n",
       "  </tbody>\n",
       "</table>\n",
       "</div>"
      ],
      "text/plain": [
       "  seller_type layout_type      property_type    furnish_type\n",
       "0       OWNER         BHK          Apartment       Furnished\n",
       "1       OWNER          RK   Studio Apartment  Semi-Furnished\n",
       "2       OWNER         BHK          Apartment     Unfurnished\n",
       "3       OWNER         BHK  Independent House  Semi-Furnished\n",
       "4       OWNER         BHK  Independent House       Furnished"
      ]
     },
     "execution_count": 233,
     "metadata": {},
     "output_type": "execute_result"
    }
   ],
   "source": [
    "X.select_dtypes(include=\"object\").head()"
   ]
  },
  {
   "cell_type": "code",
   "execution_count": 234,
   "metadata": {},
   "outputs": [
    {
     "data": {
      "text/plain": [
       "property_type\n",
       "Apartment            142916\n",
       "Independent Floor     27696\n",
       "Independent House     13125\n",
       "Studio Apartment       9789\n",
       "Villa                  3156\n",
       "Penthouse               156\n",
       "Name: count, dtype: int64"
      ]
     },
     "execution_count": 234,
     "metadata": {},
     "output_type": "execute_result"
    }
   ],
   "source": [
    "X[\"property_type\"].value_counts()"
   ]
  },
  {
   "cell_type": "code",
   "execution_count": 238,
   "metadata": {},
   "outputs": [],
   "source": [
    "seller={\"OWNER\":1,\"AGENT\":2,\"BUILDER\":3}\n",
    "layout={\"RK\":1,\"BHK\":2}\n",
    "property={'Studio Apartment': 1,'Apartment': 2,'Independent Floor': 3,'Independent House': 4,'Villa': 5,'Penthouse': 6}\n",
    "furnished = {'Unfurnished': 1,'Semi-Furnished': 2,'Furnished': 3}"
   ]
  },
  {
   "cell_type": "code",
   "execution_count": 241,
   "metadata": {},
   "outputs": [],
   "source": [
    "sell_cat=['OWNER', 'AGENT', 'BUILDER']\n",
    "layout_cat=['BHK', 'RK']\n",
    "property_cat=['Apartment', 'Studio Apartment', 'Independent House', 'Villa','Independent Floor', 'Penthouse']\n",
    "furnished_cat=['Furnished', 'Semi-Furnished', 'Unfurnished']"
   ]
  },
  {
   "cell_type": "code",
   "execution_count": 239,
   "metadata": {},
   "outputs": [],
   "source": [
    "num_pipeline=Pipeline(\n",
    "    steps=[\n",
    "        (\"imputer\",SimpleImputer()),\n",
    "        (\"scaler\",StandardScaler())\n",
    "    ]\n",
    ")"
   ]
  },
  {
   "cell_type": "code",
   "execution_count": 242,
   "metadata": {},
   "outputs": [],
   "source": [
    "cat_pipeline=Pipeline(\n",
    "\n",
    "    steps=[\n",
    "        (\"imputer\",SimpleImputer(strategy=\"most_frequent\")),\n",
    "        (\"ordinalencoder\",OrdinalEncoder(categories=[sell_cat,layout_cat,property_cat,furnished_cat]))\n",
    "\n",
    "    ]\n",
    ")"
   ]
  },
  {
   "cell_type": "code",
   "execution_count": 243,
   "metadata": {},
   "outputs": [],
   "source": [
    "preprocessor=ColumnTransformer(\n",
    "\n",
    "    [\n",
    "        (\"num_pipeline\",num_pipeline,num_cols),\n",
    "        (\"cat_pipeline\",cat_pipeline,cat_cols)\n",
    "    ]\n",
    ")"
   ]
  },
  {
   "cell_type": "code",
   "execution_count": 244,
   "metadata": {},
   "outputs": [],
   "source": [
    "from sklearn.model_selection import train_test_split\n",
    "X_train,X_test,y_train,y_test=train_test_split(X,y,test_size=0.30, random_state=42)"
   ]
  },
  {
   "cell_type": "code",
   "execution_count": 245,
   "metadata": {},
   "outputs": [
    {
     "data": {
      "text/html": [
       "<div>\n",
       "<style scoped>\n",
       "    .dataframe tbody tr th:only-of-type {\n",
       "        vertical-align: middle;\n",
       "    }\n",
       "\n",
       "    .dataframe tbody tr th {\n",
       "        vertical-align: top;\n",
       "    }\n",
       "\n",
       "    .dataframe thead th {\n",
       "        text-align: right;\n",
       "    }\n",
       "</style>\n",
       "<table border=\"1\" class=\"dataframe\">\n",
       "  <thead>\n",
       "    <tr style=\"text-align: right;\">\n",
       "      <th></th>\n",
       "      <th>seller_type</th>\n",
       "      <th>bedroom</th>\n",
       "      <th>layout_type</th>\n",
       "      <th>property_type</th>\n",
       "      <th>area</th>\n",
       "      <th>furnish_type</th>\n",
       "      <th>bathroom</th>\n",
       "      <th>locality_encoded</th>\n",
       "      <th>city_encoded</th>\n",
       "    </tr>\n",
       "  </thead>\n",
       "  <tbody>\n",
       "    <tr>\n",
       "      <th>8328</th>\n",
       "      <td>AGENT</td>\n",
       "      <td>1</td>\n",
       "      <td>BHK</td>\n",
       "      <td>Apartment</td>\n",
       "      <td>466</td>\n",
       "      <td>Unfurnished</td>\n",
       "      <td>1</td>\n",
       "      <td>20511.477912</td>\n",
       "      <td>17224.154141</td>\n",
       "    </tr>\n",
       "    <tr>\n",
       "      <th>7024</th>\n",
       "      <td>AGENT</td>\n",
       "      <td>2</td>\n",
       "      <td>BHK</td>\n",
       "      <td>Apartment</td>\n",
       "      <td>1300</td>\n",
       "      <td>Semi-Furnished</td>\n",
       "      <td>2</td>\n",
       "      <td>20987.635117</td>\n",
       "      <td>19833.394180</td>\n",
       "    </tr>\n",
       "    <tr>\n",
       "      <th>19260</th>\n",
       "      <td>OWNER</td>\n",
       "      <td>2</td>\n",
       "      <td>BHK</td>\n",
       "      <td>Independent House</td>\n",
       "      <td>1000</td>\n",
       "      <td>Semi-Furnished</td>\n",
       "      <td>1</td>\n",
       "      <td>15502.779792</td>\n",
       "      <td>19833.394180</td>\n",
       "    </tr>\n",
       "    <tr>\n",
       "      <th>8456</th>\n",
       "      <td>AGENT</td>\n",
       "      <td>4</td>\n",
       "      <td>BHK</td>\n",
       "      <td>Independent Floor</td>\n",
       "      <td>3600</td>\n",
       "      <td>Semi-Furnished</td>\n",
       "      <td>4</td>\n",
       "      <td>38104.344429</td>\n",
       "      <td>19304.005881</td>\n",
       "    </tr>\n",
       "    <tr>\n",
       "      <th>20352</th>\n",
       "      <td>OWNER</td>\n",
       "      <td>1</td>\n",
       "      <td>BHK</td>\n",
       "      <td>Independent Floor</td>\n",
       "      <td>450</td>\n",
       "      <td>Semi-Furnished</td>\n",
       "      <td>1</td>\n",
       "      <td>24937.276102</td>\n",
       "      <td>19833.394180</td>\n",
       "    </tr>\n",
       "  </tbody>\n",
       "</table>\n",
       "</div>"
      ],
      "text/plain": [
       "      seller_type  bedroom layout_type      property_type  area  \\\n",
       "8328        AGENT        1         BHK          Apartment   466   \n",
       "7024        AGENT        2         BHK          Apartment  1300   \n",
       "19260       OWNER        2         BHK  Independent House  1000   \n",
       "8456        AGENT        4         BHK  Independent Floor  3600   \n",
       "20352       OWNER        1         BHK  Independent Floor   450   \n",
       "\n",
       "         furnish_type  bathroom  locality_encoded  city_encoded  \n",
       "8328      Unfurnished         1      20511.477912  17224.154141  \n",
       "7024   Semi-Furnished         2      20987.635117  19833.394180  \n",
       "19260  Semi-Furnished         1      15502.779792  19833.394180  \n",
       "8456   Semi-Furnished         4      38104.344429  19304.005881  \n",
       "20352  Semi-Furnished         1      24937.276102  19833.394180  "
      ]
     },
     "execution_count": 245,
     "metadata": {},
     "output_type": "execute_result"
    }
   ],
   "source": [
    "X_train.head()"
   ]
  },
  {
   "cell_type": "code",
   "execution_count": 246,
   "metadata": {},
   "outputs": [
    {
     "data": {
      "text/plain": [
       "8328      7500\n",
       "7024     20000\n",
       "19260    14000\n",
       "8456         1\n",
       "20352    14500\n",
       "Name: price, dtype: int32"
      ]
     },
     "execution_count": 246,
     "metadata": {},
     "output_type": "execute_result"
    }
   ],
   "source": [
    "y_train.head()"
   ]
  },
  {
   "cell_type": "code",
   "execution_count": 247,
   "metadata": {},
   "outputs": [
    {
     "data": {
      "text/plain": [
       "array([[-1.12816621, -0.76703309, -1.13902926, ...,  0.        ,\n",
       "         0.        ,  2.        ],\n",
       "       [-0.08011768,  0.03812628, -0.06296181, ...,  0.        ,\n",
       "         0.        ,  1.        ],\n",
       "       [-0.08011768, -0.25149939, -1.13902926, ...,  0.        ,\n",
       "         2.        ,  1.        ],\n",
       "       ...,\n",
       "       [-0.08011768, -0.17426588, -0.06296181, ...,  0.        ,\n",
       "         0.        ,  2.        ],\n",
       "       [-0.08011768, -0.23219102, -0.06296181, ...,  0.        ,\n",
       "         0.        ,  1.        ],\n",
       "       [-1.12816621, -0.75351722, -1.13902926, ...,  0.        ,\n",
       "         0.        ,  1.        ]])"
      ]
     },
     "execution_count": 247,
     "metadata": {},
     "output_type": "execute_result"
    }
   ],
   "source": [
    "preprocessor.fit_transform(X_train)"
   ]
  },
  {
   "cell_type": "code",
   "execution_count": 248,
   "metadata": {},
   "outputs": [
    {
     "data": {
      "text/plain": [
       "array([[-0.08011768, -0.0371764 , -0.06296181, ...,  0.        ,\n",
       "         0.        ,  2.        ],\n",
       "       [-0.08011768,  0.08639722, -0.06296181, ...,  0.        ,\n",
       "         0.        ,  0.        ],\n",
       "       [ 3.0640279 ,  1.6793384 ,  3.16524055, ...,  0.        ,\n",
       "         0.        ,  0.        ],\n",
       "       ...,\n",
       "       [-1.12816621, -0.49285412, -0.06296181, ...,  0.        ,\n",
       "         0.        ,  2.        ],\n",
       "       [-0.08011768, -0.20322845, -0.06296181, ...,  0.        ,\n",
       "         0.        ,  1.        ],\n",
       "       [-0.08011768, -0.25149939, -0.06296181, ...,  0.        ,\n",
       "         0.        ,  0.        ]])"
      ]
     },
     "execution_count": 248,
     "metadata": {},
     "output_type": "execute_result"
    }
   ],
   "source": [
    "preprocessor.transform(X_test)"
   ]
  },
  {
   "cell_type": "code",
   "execution_count": 249,
   "metadata": {},
   "outputs": [
    {
     "data": {
      "text/plain": [
       "array(['num_pipeline__bedroom', 'num_pipeline__area',\n",
       "       'num_pipeline__bathroom', 'num_pipeline__locality_encoded',\n",
       "       'num_pipeline__city_encoded', 'cat_pipeline__seller_type',\n",
       "       'cat_pipeline__layout_type', 'cat_pipeline__property_type',\n",
       "       'cat_pipeline__furnish_type'], dtype=object)"
      ]
     },
     "execution_count": 249,
     "metadata": {},
     "output_type": "execute_result"
    }
   ],
   "source": [
    "preprocessor.get_feature_names_out()"
   ]
  },
  {
   "cell_type": "code",
   "execution_count": 250,
   "metadata": {},
   "outputs": [],
   "source": [
    "X_train=pd.DataFrame(preprocessor.fit_transform(X_train),columns=preprocessor.get_feature_names_out())\n",
    "X_test=pd.DataFrame(preprocessor.transform(X_test),columns=preprocessor.get_feature_names_out())"
   ]
  },
  {
   "cell_type": "code",
   "execution_count": 251,
   "metadata": {},
   "outputs": [
    {
     "data": {
      "text/html": [
       "<div>\n",
       "<style scoped>\n",
       "    .dataframe tbody tr th:only-of-type {\n",
       "        vertical-align: middle;\n",
       "    }\n",
       "\n",
       "    .dataframe tbody tr th {\n",
       "        vertical-align: top;\n",
       "    }\n",
       "\n",
       "    .dataframe thead th {\n",
       "        text-align: right;\n",
       "    }\n",
       "</style>\n",
       "<table border=\"1\" class=\"dataframe\">\n",
       "  <thead>\n",
       "    <tr style=\"text-align: right;\">\n",
       "      <th></th>\n",
       "      <th>num_pipeline__bedroom</th>\n",
       "      <th>num_pipeline__area</th>\n",
       "      <th>num_pipeline__bathroom</th>\n",
       "      <th>num_pipeline__locality_encoded</th>\n",
       "      <th>num_pipeline__city_encoded</th>\n",
       "      <th>cat_pipeline__seller_type</th>\n",
       "      <th>cat_pipeline__layout_type</th>\n",
       "      <th>cat_pipeline__property_type</th>\n",
       "      <th>cat_pipeline__furnish_type</th>\n",
       "    </tr>\n",
       "  </thead>\n",
       "  <tbody>\n",
       "    <tr>\n",
       "      <th>0</th>\n",
       "      <td>-1.128166</td>\n",
       "      <td>-0.767033</td>\n",
       "      <td>-1.139029</td>\n",
       "      <td>-0.257149</td>\n",
       "      <td>-1.172723</td>\n",
       "      <td>1.0</td>\n",
       "      <td>0.0</td>\n",
       "      <td>0.0</td>\n",
       "      <td>2.0</td>\n",
       "    </tr>\n",
       "    <tr>\n",
       "      <th>1</th>\n",
       "      <td>-0.080118</td>\n",
       "      <td>0.038126</td>\n",
       "      <td>-0.062962</td>\n",
       "      <td>-0.208721</td>\n",
       "      <td>-0.616231</td>\n",
       "      <td>1.0</td>\n",
       "      <td>0.0</td>\n",
       "      <td>0.0</td>\n",
       "      <td>1.0</td>\n",
       "    </tr>\n",
       "    <tr>\n",
       "      <th>2</th>\n",
       "      <td>-0.080118</td>\n",
       "      <td>-0.251499</td>\n",
       "      <td>-1.139029</td>\n",
       "      <td>-0.766567</td>\n",
       "      <td>-0.616231</td>\n",
       "      <td>0.0</td>\n",
       "      <td>0.0</td>\n",
       "      <td>2.0</td>\n",
       "      <td>1.0</td>\n",
       "    </tr>\n",
       "    <tr>\n",
       "      <th>3</th>\n",
       "      <td>2.015979</td>\n",
       "      <td>2.258590</td>\n",
       "      <td>2.089173</td>\n",
       "      <td>1.532161</td>\n",
       "      <td>-0.729137</td>\n",
       "      <td>1.0</td>\n",
       "      <td>0.0</td>\n",
       "      <td>4.0</td>\n",
       "      <td>1.0</td>\n",
       "    </tr>\n",
       "    <tr>\n",
       "      <th>4</th>\n",
       "      <td>-1.128166</td>\n",
       "      <td>-0.782480</td>\n",
       "      <td>-1.139029</td>\n",
       "      <td>0.192984</td>\n",
       "      <td>-0.616231</td>\n",
       "      <td>0.0</td>\n",
       "      <td>0.0</td>\n",
       "      <td>4.0</td>\n",
       "      <td>1.0</td>\n",
       "    </tr>\n",
       "    <tr>\n",
       "      <th>...</th>\n",
       "      <td>...</td>\n",
       "      <td>...</td>\n",
       "      <td>...</td>\n",
       "      <td>...</td>\n",
       "      <td>...</td>\n",
       "      <td>...</td>\n",
       "      <td>...</td>\n",
       "      <td>...</td>\n",
       "      <td>...</td>\n",
       "    </tr>\n",
       "    <tr>\n",
       "      <th>137781</th>\n",
       "      <td>-0.080118</td>\n",
       "      <td>-0.477407</td>\n",
       "      <td>-0.062962</td>\n",
       "      <td>1.151516</td>\n",
       "      <td>1.329907</td>\n",
       "      <td>1.0</td>\n",
       "      <td>0.0</td>\n",
       "      <td>0.0</td>\n",
       "      <td>2.0</td>\n",
       "    </tr>\n",
       "    <tr>\n",
       "      <th>137782</th>\n",
       "      <td>-1.128166</td>\n",
       "      <td>-0.618359</td>\n",
       "      <td>-1.139029</td>\n",
       "      <td>-0.429845</td>\n",
       "      <td>-1.172723</td>\n",
       "      <td>0.0</td>\n",
       "      <td>0.0</td>\n",
       "      <td>3.0</td>\n",
       "      <td>2.0</td>\n",
       "    </tr>\n",
       "    <tr>\n",
       "      <th>137783</th>\n",
       "      <td>-0.080118</td>\n",
       "      <td>-0.174266</td>\n",
       "      <td>-0.062962</td>\n",
       "      <td>0.180696</td>\n",
       "      <td>1.329907</td>\n",
       "      <td>1.0</td>\n",
       "      <td>0.0</td>\n",
       "      <td>0.0</td>\n",
       "      <td>2.0</td>\n",
       "    </tr>\n",
       "    <tr>\n",
       "      <th>137784</th>\n",
       "      <td>-0.080118</td>\n",
       "      <td>-0.232191</td>\n",
       "      <td>-0.062962</td>\n",
       "      <td>1.292322</td>\n",
       "      <td>1.329907</td>\n",
       "      <td>1.0</td>\n",
       "      <td>0.0</td>\n",
       "      <td>0.0</td>\n",
       "      <td>1.0</td>\n",
       "    </tr>\n",
       "    <tr>\n",
       "      <th>137785</th>\n",
       "      <td>-1.128166</td>\n",
       "      <td>-0.753517</td>\n",
       "      <td>-1.139029</td>\n",
       "      <td>0.748902</td>\n",
       "      <td>1.329907</td>\n",
       "      <td>1.0</td>\n",
       "      <td>0.0</td>\n",
       "      <td>0.0</td>\n",
       "      <td>1.0</td>\n",
       "    </tr>\n",
       "  </tbody>\n",
       "</table>\n",
       "<p>137786 rows × 9 columns</p>\n",
       "</div>"
      ],
      "text/plain": [
       "        num_pipeline__bedroom  num_pipeline__area  num_pipeline__bathroom  \\\n",
       "0                   -1.128166           -0.767033               -1.139029   \n",
       "1                   -0.080118            0.038126               -0.062962   \n",
       "2                   -0.080118           -0.251499               -1.139029   \n",
       "3                    2.015979            2.258590                2.089173   \n",
       "4                   -1.128166           -0.782480               -1.139029   \n",
       "...                       ...                 ...                     ...   \n",
       "137781              -0.080118           -0.477407               -0.062962   \n",
       "137782              -1.128166           -0.618359               -1.139029   \n",
       "137783              -0.080118           -0.174266               -0.062962   \n",
       "137784              -0.080118           -0.232191               -0.062962   \n",
       "137785              -1.128166           -0.753517               -1.139029   \n",
       "\n",
       "        num_pipeline__locality_encoded  num_pipeline__city_encoded  \\\n",
       "0                            -0.257149                   -1.172723   \n",
       "1                            -0.208721                   -0.616231   \n",
       "2                            -0.766567                   -0.616231   \n",
       "3                             1.532161                   -0.729137   \n",
       "4                             0.192984                   -0.616231   \n",
       "...                                ...                         ...   \n",
       "137781                        1.151516                    1.329907   \n",
       "137782                       -0.429845                   -1.172723   \n",
       "137783                        0.180696                    1.329907   \n",
       "137784                        1.292322                    1.329907   \n",
       "137785                        0.748902                    1.329907   \n",
       "\n",
       "        cat_pipeline__seller_type  cat_pipeline__layout_type  \\\n",
       "0                             1.0                        0.0   \n",
       "1                             1.0                        0.0   \n",
       "2                             0.0                        0.0   \n",
       "3                             1.0                        0.0   \n",
       "4                             0.0                        0.0   \n",
       "...                           ...                        ...   \n",
       "137781                        1.0                        0.0   \n",
       "137782                        0.0                        0.0   \n",
       "137783                        1.0                        0.0   \n",
       "137784                        1.0                        0.0   \n",
       "137785                        1.0                        0.0   \n",
       "\n",
       "        cat_pipeline__property_type  cat_pipeline__furnish_type  \n",
       "0                               0.0                         2.0  \n",
       "1                               0.0                         1.0  \n",
       "2                               2.0                         1.0  \n",
       "3                               4.0                         1.0  \n",
       "4                               4.0                         1.0  \n",
       "...                             ...                         ...  \n",
       "137781                          0.0                         2.0  \n",
       "137782                          3.0                         2.0  \n",
       "137783                          0.0                         2.0  \n",
       "137784                          0.0                         1.0  \n",
       "137785                          0.0                         1.0  \n",
       "\n",
       "[137786 rows x 9 columns]"
      ]
     },
     "execution_count": 251,
     "metadata": {},
     "output_type": "execute_result"
    }
   ],
   "source": [
    "X_train"
   ]
  },
  {
   "cell_type": "code",
   "execution_count": 252,
   "metadata": {},
   "outputs": [
    {
     "data": {
      "text/html": [
       "<div>\n",
       "<style scoped>\n",
       "    .dataframe tbody tr th:only-of-type {\n",
       "        vertical-align: middle;\n",
       "    }\n",
       "\n",
       "    .dataframe tbody tr th {\n",
       "        vertical-align: top;\n",
       "    }\n",
       "\n",
       "    .dataframe thead th {\n",
       "        text-align: right;\n",
       "    }\n",
       "</style>\n",
       "<table border=\"1\" class=\"dataframe\">\n",
       "  <thead>\n",
       "    <tr style=\"text-align: right;\">\n",
       "      <th></th>\n",
       "      <th>num_pipeline__bedroom</th>\n",
       "      <th>num_pipeline__area</th>\n",
       "      <th>num_pipeline__bathroom</th>\n",
       "      <th>num_pipeline__locality_encoded</th>\n",
       "      <th>num_pipeline__city_encoded</th>\n",
       "      <th>cat_pipeline__seller_type</th>\n",
       "      <th>cat_pipeline__layout_type</th>\n",
       "      <th>cat_pipeline__property_type</th>\n",
       "      <th>cat_pipeline__furnish_type</th>\n",
       "    </tr>\n",
       "  </thead>\n",
       "  <tbody>\n",
       "    <tr>\n",
       "      <th>0</th>\n",
       "      <td>-0.080118</td>\n",
       "      <td>-0.037176</td>\n",
       "      <td>-0.062962</td>\n",
       "      <td>-0.130825</td>\n",
       "      <td>-0.836041</td>\n",
       "      <td>1.0</td>\n",
       "      <td>0.0</td>\n",
       "      <td>0.0</td>\n",
       "      <td>2.0</td>\n",
       "    </tr>\n",
       "    <tr>\n",
       "      <th>1</th>\n",
       "      <td>-0.080118</td>\n",
       "      <td>0.086397</td>\n",
       "      <td>-0.062962</td>\n",
       "      <td>-0.401372</td>\n",
       "      <td>-0.836041</td>\n",
       "      <td>1.0</td>\n",
       "      <td>0.0</td>\n",
       "      <td>0.0</td>\n",
       "      <td>0.0</td>\n",
       "    </tr>\n",
       "    <tr>\n",
       "      <th>2</th>\n",
       "      <td>3.064028</td>\n",
       "      <td>1.679338</td>\n",
       "      <td>3.165241</td>\n",
       "      <td>1.155947</td>\n",
       "      <td>1.329907</td>\n",
       "      <td>1.0</td>\n",
       "      <td>0.0</td>\n",
       "      <td>0.0</td>\n",
       "      <td>0.0</td>\n",
       "    </tr>\n",
       "    <tr>\n",
       "      <th>3</th>\n",
       "      <td>0.967931</td>\n",
       "      <td>0.327752</td>\n",
       "      <td>1.013106</td>\n",
       "      <td>1.245888</td>\n",
       "      <td>-0.067851</td>\n",
       "      <td>1.0</td>\n",
       "      <td>0.0</td>\n",
       "      <td>0.0</td>\n",
       "      <td>0.0</td>\n",
       "    </tr>\n",
       "    <tr>\n",
       "      <th>4</th>\n",
       "      <td>0.967931</td>\n",
       "      <td>0.612551</td>\n",
       "      <td>1.013106</td>\n",
       "      <td>-0.176237</td>\n",
       "      <td>-0.067851</td>\n",
       "      <td>1.0</td>\n",
       "      <td>0.0</td>\n",
       "      <td>0.0</td>\n",
       "      <td>0.0</td>\n",
       "    </tr>\n",
       "    <tr>\n",
       "      <th>...</th>\n",
       "      <td>...</td>\n",
       "      <td>...</td>\n",
       "      <td>...</td>\n",
       "      <td>...</td>\n",
       "      <td>...</td>\n",
       "      <td>...</td>\n",
       "      <td>...</td>\n",
       "      <td>...</td>\n",
       "      <td>...</td>\n",
       "    </tr>\n",
       "    <tr>\n",
       "      <th>59047</th>\n",
       "      <td>-0.080118</td>\n",
       "      <td>-0.058416</td>\n",
       "      <td>-0.062962</td>\n",
       "      <td>0.430942</td>\n",
       "      <td>1.329907</td>\n",
       "      <td>0.0</td>\n",
       "      <td>0.0</td>\n",
       "      <td>2.0</td>\n",
       "      <td>2.0</td>\n",
       "    </tr>\n",
       "    <tr>\n",
       "      <th>59048</th>\n",
       "      <td>-1.128166</td>\n",
       "      <td>-0.637667</td>\n",
       "      <td>-1.139029</td>\n",
       "      <td>0.316088</td>\n",
       "      <td>-0.836041</td>\n",
       "      <td>1.0</td>\n",
       "      <td>0.0</td>\n",
       "      <td>0.0</td>\n",
       "      <td>2.0</td>\n",
       "    </tr>\n",
       "    <tr>\n",
       "      <th>59049</th>\n",
       "      <td>-1.128166</td>\n",
       "      <td>-0.492854</td>\n",
       "      <td>-0.062962</td>\n",
       "      <td>2.457266</td>\n",
       "      <td>1.329907</td>\n",
       "      <td>1.0</td>\n",
       "      <td>0.0</td>\n",
       "      <td>0.0</td>\n",
       "      <td>2.0</td>\n",
       "    </tr>\n",
       "    <tr>\n",
       "      <th>59050</th>\n",
       "      <td>-0.080118</td>\n",
       "      <td>-0.203228</td>\n",
       "      <td>-0.062962</td>\n",
       "      <td>2.071727</td>\n",
       "      <td>1.329907</td>\n",
       "      <td>1.0</td>\n",
       "      <td>0.0</td>\n",
       "      <td>0.0</td>\n",
       "      <td>1.0</td>\n",
       "    </tr>\n",
       "    <tr>\n",
       "      <th>59051</th>\n",
       "      <td>-0.080118</td>\n",
       "      <td>-0.251499</td>\n",
       "      <td>-0.062962</td>\n",
       "      <td>0.124435</td>\n",
       "      <td>-0.836041</td>\n",
       "      <td>1.0</td>\n",
       "      <td>0.0</td>\n",
       "      <td>0.0</td>\n",
       "      <td>0.0</td>\n",
       "    </tr>\n",
       "  </tbody>\n",
       "</table>\n",
       "<p>59052 rows × 9 columns</p>\n",
       "</div>"
      ],
      "text/plain": [
       "       num_pipeline__bedroom  num_pipeline__area  num_pipeline__bathroom  \\\n",
       "0                  -0.080118           -0.037176               -0.062962   \n",
       "1                  -0.080118            0.086397               -0.062962   \n",
       "2                   3.064028            1.679338                3.165241   \n",
       "3                   0.967931            0.327752                1.013106   \n",
       "4                   0.967931            0.612551                1.013106   \n",
       "...                      ...                 ...                     ...   \n",
       "59047              -0.080118           -0.058416               -0.062962   \n",
       "59048              -1.128166           -0.637667               -1.139029   \n",
       "59049              -1.128166           -0.492854               -0.062962   \n",
       "59050              -0.080118           -0.203228               -0.062962   \n",
       "59051              -0.080118           -0.251499               -0.062962   \n",
       "\n",
       "       num_pipeline__locality_encoded  num_pipeline__city_encoded  \\\n",
       "0                           -0.130825                   -0.836041   \n",
       "1                           -0.401372                   -0.836041   \n",
       "2                            1.155947                    1.329907   \n",
       "3                            1.245888                   -0.067851   \n",
       "4                           -0.176237                   -0.067851   \n",
       "...                               ...                         ...   \n",
       "59047                        0.430942                    1.329907   \n",
       "59048                        0.316088                   -0.836041   \n",
       "59049                        2.457266                    1.329907   \n",
       "59050                        2.071727                    1.329907   \n",
       "59051                        0.124435                   -0.836041   \n",
       "\n",
       "       cat_pipeline__seller_type  cat_pipeline__layout_type  \\\n",
       "0                            1.0                        0.0   \n",
       "1                            1.0                        0.0   \n",
       "2                            1.0                        0.0   \n",
       "3                            1.0                        0.0   \n",
       "4                            1.0                        0.0   \n",
       "...                          ...                        ...   \n",
       "59047                        0.0                        0.0   \n",
       "59048                        1.0                        0.0   \n",
       "59049                        1.0                        0.0   \n",
       "59050                        1.0                        0.0   \n",
       "59051                        1.0                        0.0   \n",
       "\n",
       "       cat_pipeline__property_type  cat_pipeline__furnish_type  \n",
       "0                              0.0                         2.0  \n",
       "1                              0.0                         0.0  \n",
       "2                              0.0                         0.0  \n",
       "3                              0.0                         0.0  \n",
       "4                              0.0                         0.0  \n",
       "...                            ...                         ...  \n",
       "59047                          2.0                         2.0  \n",
       "59048                          0.0                         2.0  \n",
       "59049                          0.0                         2.0  \n",
       "59050                          0.0                         1.0  \n",
       "59051                          0.0                         0.0  \n",
       "\n",
       "[59052 rows x 9 columns]"
      ]
     },
     "execution_count": 252,
     "metadata": {},
     "output_type": "execute_result"
    }
   ],
   "source": [
    "X_test"
   ]
  },
  {
   "cell_type": "markdown",
   "metadata": {},
   "source": [
    "# Model Traning"
   ]
  },
  {
   "cell_type": "code",
   "execution_count": 253,
   "metadata": {},
   "outputs": [],
   "source": [
    "from xgboost import XGBRegressor\n",
    "from sklearn.ensemble import RandomForestRegressor\n",
    "from sklearn.linear_model import LinearRegression,Lasso,Ridge,ElasticNet\n",
    "from sklearn.metrics import r2_score,mean_absolute_error,mean_squared_error"
   ]
  },
  {
   "cell_type": "code",
   "execution_count": 254,
   "metadata": {},
   "outputs": [],
   "source": [
    "models={\n",
    "\n",
    "    'LinearRegression':LinearRegression(),\n",
    "    'Lasso':Lasso(),\n",
    "    'Ridge':Ridge(),\n",
    "    'Elasticnet':ElasticNet(),\n",
    "    'Randomforest':RandomForestRegressor(),\n",
    "    'xgboost':XGBRegressor()\n",
    "\n",
    "}"
   ]
  },
  {
   "cell_type": "code",
   "execution_count": 255,
   "metadata": {},
   "outputs": [],
   "source": [
    "trained_model_list=[]\n",
    "model_list=[]\n",
    "r2_list=[]"
   ]
  },
  {
   "cell_type": "code",
   "execution_count": 256,
   "metadata": {},
   "outputs": [
    {
     "data": {
      "text/plain": [
       "['LinearRegression', 'Lasso', 'Ridge', 'Elasticnet', 'Randomforest', 'xgboost']"
      ]
     },
     "execution_count": 256,
     "metadata": {},
     "output_type": "execute_result"
    }
   ],
   "source": [
    "list(models)"
   ]
  },
  {
   "cell_type": "code",
   "execution_count": 257,
   "metadata": {},
   "outputs": [
    {
     "name": "stdout",
     "output_type": "stream",
     "text": [
      "LinearRegression()\n",
      "Lasso()\n",
      "Ridge()\n",
      "ElasticNet()\n",
      "RandomForestRegressor()\n",
      "XGBRegressor(base_score=None, booster=None, callbacks=None,\n",
      "             colsample_bylevel=None, colsample_bynode=None,\n",
      "             colsample_bytree=None, device=None, early_stopping_rounds=None,\n",
      "             enable_categorical=False, eval_metric=None, feature_types=None,\n",
      "             gamma=None, grow_policy=None, importance_type=None,\n",
      "             interaction_constraints=None, learning_rate=None, max_bin=None,\n",
      "             max_cat_threshold=None, max_cat_to_onehot=None,\n",
      "             max_delta_step=None, max_depth=None, max_leaves=None,\n",
      "             min_child_weight=None, missing=nan, monotone_constraints=None,\n",
      "             multi_strategy=None, n_estimators=None, n_jobs=None,\n",
      "             num_parallel_tree=None, random_state=None, ...)\n"
     ]
    }
   ],
   "source": [
    "for i in range(len(list(models))):\n",
    "    model=list(models.values())[i]\n",
    "    print(model)"
   ]
  },
  {
   "cell_type": "code",
   "execution_count": 258,
   "metadata": {},
   "outputs": [
    {
     "data": {
      "text/plain": [
       "dict_keys(['LinearRegression', 'Lasso', 'Ridge', 'Elasticnet', 'Randomforest', 'xgboost'])"
      ]
     },
     "execution_count": 258,
     "metadata": {},
     "output_type": "execute_result"
    }
   ],
   "source": [
    "models.keys()"
   ]
  },
  {
   "cell_type": "code",
   "execution_count": 259,
   "metadata": {},
   "outputs": [
    {
     "data": {
      "text/html": [
       "<style>#sk-container-id-1 {color: black;}#sk-container-id-1 pre{padding: 0;}#sk-container-id-1 div.sk-toggleable {background-color: white;}#sk-container-id-1 label.sk-toggleable__label {cursor: pointer;display: block;width: 100%;margin-bottom: 0;padding: 0.3em;box-sizing: border-box;text-align: center;}#sk-container-id-1 label.sk-toggleable__label-arrow:before {content: \"▸\";float: left;margin-right: 0.25em;color: #696969;}#sk-container-id-1 label.sk-toggleable__label-arrow:hover:before {color: black;}#sk-container-id-1 div.sk-estimator:hover label.sk-toggleable__label-arrow:before {color: black;}#sk-container-id-1 div.sk-toggleable__content {max-height: 0;max-width: 0;overflow: hidden;text-align: left;background-color: #f0f8ff;}#sk-container-id-1 div.sk-toggleable__content pre {margin: 0.2em;color: black;border-radius: 0.25em;background-color: #f0f8ff;}#sk-container-id-1 input.sk-toggleable__control:checked~div.sk-toggleable__content {max-height: 200px;max-width: 100%;overflow: auto;}#sk-container-id-1 input.sk-toggleable__control:checked~label.sk-toggleable__label-arrow:before {content: \"▾\";}#sk-container-id-1 div.sk-estimator input.sk-toggleable__control:checked~label.sk-toggleable__label {background-color: #d4ebff;}#sk-container-id-1 div.sk-label input.sk-toggleable__control:checked~label.sk-toggleable__label {background-color: #d4ebff;}#sk-container-id-1 input.sk-hidden--visually {border: 0;clip: rect(1px 1px 1px 1px);clip: rect(1px, 1px, 1px, 1px);height: 1px;margin: -1px;overflow: hidden;padding: 0;position: absolute;width: 1px;}#sk-container-id-1 div.sk-estimator {font-family: monospace;background-color: #f0f8ff;border: 1px dotted black;border-radius: 0.25em;box-sizing: border-box;margin-bottom: 0.5em;}#sk-container-id-1 div.sk-estimator:hover {background-color: #d4ebff;}#sk-container-id-1 div.sk-parallel-item::after {content: \"\";width: 100%;border-bottom: 1px solid gray;flex-grow: 1;}#sk-container-id-1 div.sk-label:hover label.sk-toggleable__label {background-color: #d4ebff;}#sk-container-id-1 div.sk-serial::before {content: \"\";position: absolute;border-left: 1px solid gray;box-sizing: border-box;top: 0;bottom: 0;left: 50%;z-index: 0;}#sk-container-id-1 div.sk-serial {display: flex;flex-direction: column;align-items: center;background-color: white;padding-right: 0.2em;padding-left: 0.2em;position: relative;}#sk-container-id-1 div.sk-item {position: relative;z-index: 1;}#sk-container-id-1 div.sk-parallel {display: flex;align-items: stretch;justify-content: center;background-color: white;position: relative;}#sk-container-id-1 div.sk-item::before, #sk-container-id-1 div.sk-parallel-item::before {content: \"\";position: absolute;border-left: 1px solid gray;box-sizing: border-box;top: 0;bottom: 0;left: 50%;z-index: -1;}#sk-container-id-1 div.sk-parallel-item {display: flex;flex-direction: column;z-index: 1;position: relative;background-color: white;}#sk-container-id-1 div.sk-parallel-item:first-child::after {align-self: flex-end;width: 50%;}#sk-container-id-1 div.sk-parallel-item:last-child::after {align-self: flex-start;width: 50%;}#sk-container-id-1 div.sk-parallel-item:only-child::after {width: 0;}#sk-container-id-1 div.sk-dashed-wrapped {border: 1px dashed gray;margin: 0 0.4em 0.5em 0.4em;box-sizing: border-box;padding-bottom: 0.4em;background-color: white;}#sk-container-id-1 div.sk-label label {font-family: monospace;font-weight: bold;display: inline-block;line-height: 1.2em;}#sk-container-id-1 div.sk-label-container {text-align: center;}#sk-container-id-1 div.sk-container {/* jupyter's `normalize.less` sets `[hidden] { display: none; }` but bootstrap.min.css set `[hidden] { display: none !important; }` so we also need the `!important` here to be able to override the default hidden behavior on the sphinx rendered scikit-learn.org. See: https://github.com/scikit-learn/scikit-learn/issues/21755 */display: inline-block !important;position: relative;}#sk-container-id-1 div.sk-text-repr-fallback {display: none;}</style><div id=\"sk-container-id-1\" class=\"sk-top-container\"><div class=\"sk-text-repr-fallback\"><pre>Lasso()</pre><b>In a Jupyter environment, please rerun this cell to show the HTML representation or trust the notebook. <br />On GitHub, the HTML representation is unable to render, please try loading this page with nbviewer.org.</b></div><div class=\"sk-container\" hidden><div class=\"sk-item\"><div class=\"sk-estimator sk-toggleable\"><input class=\"sk-toggleable__control sk-hidden--visually\" id=\"sk-estimator-id-1\" type=\"checkbox\" checked><label for=\"sk-estimator-id-1\" class=\"sk-toggleable__label sk-toggleable__label-arrow\">Lasso</label><div class=\"sk-toggleable__content\"><pre>Lasso()</pre></div></div></div></div></div>"
      ],
      "text/plain": [
       "Lasso()"
      ]
     },
     "execution_count": 259,
     "metadata": {},
     "output_type": "execute_result"
    }
   ],
   "source": [
    "list(models.values())[1]"
   ]
  },
  {
   "cell_type": "code",
   "execution_count": 260,
   "metadata": {},
   "outputs": [],
   "source": [
    "def evaluate_model(true,pred):\n",
    "    r2=r2_score(true,pred)\n",
    "    mae=mean_absolute_error(true,pred)\n",
    "    mse=mean_squared_error(true,pred)\n",
    "\n",
    "    return mae, mse,r2"
   ]
  },
  {
   "cell_type": "code",
   "execution_count": 261,
   "metadata": {},
   "outputs": [
    {
     "name": "stdout",
     "output_type": "stream",
     "text": [
      "model training performance LinearRegression()\n",
      "MSE: 193009920.78730756\n",
      "MAE: 8610.025138288718\n",
      "R2 SCORE: 0.40858824661262627\n",
      "========================================\n",
      "\n",
      "\n",
      "model training performance Lasso()\n",
      "MSE: 193009925.68757045\n",
      "MAE: 8609.64102217085\n",
      "R2 SCORE: 0.4085882315974755\n",
      "========================================\n",
      "\n",
      "\n",
      "model training performance Ridge()\n",
      "MSE: 193009887.33608395\n",
      "MAE: 8610.006132277478\n",
      "R2 SCORE: 0.40858834911226316\n",
      "========================================\n",
      "\n",
      "\n",
      "model training performance ElasticNet()\n",
      "MSE: 209651455.83080798\n",
      "MAE: 9346.9014646549\n",
      "R2 SCORE: 0.35759605212341317\n",
      "========================================\n",
      "\n",
      "\n",
      "model training performance RandomForestRegressor()\n",
      "MSE: 74688226.38065544\n",
      "MAE: 3687.9203145869633\n",
      "R2 SCORE: 0.7711439145666896\n",
      "========================================\n",
      "\n",
      "\n",
      "model training performance XGBRegressor(base_score=None, booster=None, callbacks=None,\n",
      "             colsample_bylevel=None, colsample_bynode=None,\n",
      "             colsample_bytree=None, device=None, early_stopping_rounds=None,\n",
      "             enable_categorical=False, eval_metric=None, feature_types=None,\n",
      "             gamma=None, grow_policy=None, importance_type=None,\n",
      "             interaction_constraints=None, learning_rate=None, max_bin=None,\n",
      "             max_cat_threshold=None, max_cat_to_onehot=None,\n",
      "             max_delta_step=None, max_depth=None, max_leaves=None,\n",
      "             min_child_weight=None, missing=nan, monotone_constraints=None,\n",
      "             multi_strategy=None, n_estimators=None, n_jobs=None,\n",
      "             num_parallel_tree=None, random_state=None, ...)\n",
      "MSE: 98866081.99893713\n",
      "MAE: 5367.028910367266\n",
      "R2 SCORE: 0.6970592875898619\n",
      "========================================\n",
      "\n",
      "\n"
     ]
    }
   ],
   "source": [
    "for i in range(len(list(models))):\n",
    "    model=list(models.values())[i]\n",
    "    \n",
    "    model.fit(X_train,y_train)\n",
    "\n",
    "    #make_prediction\n",
    "    y_pred=model.predict(X_test)\n",
    "\n",
    "    #this is for the validaiton\n",
    "    MAE,MSE,R2=evaluate_model(y_test,y_pred)\n",
    "\n",
    "\n",
    "    print(\"model training performance\",model)\n",
    "    print(\"MSE:\", MSE)\n",
    "    print(\"MAE:\",MAE)\n",
    "    print(\"R2 SCORE:\",R2)\n",
    "\n",
    "    r2_list.append(R2)\n",
    "\n",
    "    print(\"=\"*40)\n",
    "    print(\"\\n\")"
   ]
  },
  {
   "cell_type": "code",
   "execution_count": 262,
   "metadata": {},
   "outputs": [
    {
     "data": {
      "text/plain": [
       "[0.40858824661262627,\n",
       " 0.4085882315974755,\n",
       " 0.40858834911226316,\n",
       " 0.35759605212341317,\n",
       " 0.7711439145666896,\n",
       " 0.6970592875898619]"
      ]
     },
     "execution_count": 262,
     "metadata": {},
     "output_type": "execute_result"
    }
   ],
   "source": [
    "r2_list"
   ]
  },
  {
   "cell_type": "code",
   "execution_count": 268,
   "metadata": {},
   "outputs": [
    {
     "name": "stdout",
     "output_type": "stream",
     "text": [
      "RandomForest: 77.11\n"
     ]
    }
   ],
   "source": [
    "print(f\"RandomForest: {max(r2_list)*100:.2f}\")"
   ]
  },
  {
   "cell_type": "markdown",
   "metadata": {},
   "source": [
    "# Pickle the machine learning Model & Standardscaler"
   ]
  },
  {
   "cell_type": "code",
   "execution_count": 270,
   "metadata": {},
   "outputs": [
    {
     "data": {
      "text/html": [
       "<style>#sk-container-id-2 {color: black;}#sk-container-id-2 pre{padding: 0;}#sk-container-id-2 div.sk-toggleable {background-color: white;}#sk-container-id-2 label.sk-toggleable__label {cursor: pointer;display: block;width: 100%;margin-bottom: 0;padding: 0.3em;box-sizing: border-box;text-align: center;}#sk-container-id-2 label.sk-toggleable__label-arrow:before {content: \"▸\";float: left;margin-right: 0.25em;color: #696969;}#sk-container-id-2 label.sk-toggleable__label-arrow:hover:before {color: black;}#sk-container-id-2 div.sk-estimator:hover label.sk-toggleable__label-arrow:before {color: black;}#sk-container-id-2 div.sk-toggleable__content {max-height: 0;max-width: 0;overflow: hidden;text-align: left;background-color: #f0f8ff;}#sk-container-id-2 div.sk-toggleable__content pre {margin: 0.2em;color: black;border-radius: 0.25em;background-color: #f0f8ff;}#sk-container-id-2 input.sk-toggleable__control:checked~div.sk-toggleable__content {max-height: 200px;max-width: 100%;overflow: auto;}#sk-container-id-2 input.sk-toggleable__control:checked~label.sk-toggleable__label-arrow:before {content: \"▾\";}#sk-container-id-2 div.sk-estimator input.sk-toggleable__control:checked~label.sk-toggleable__label {background-color: #d4ebff;}#sk-container-id-2 div.sk-label input.sk-toggleable__control:checked~label.sk-toggleable__label {background-color: #d4ebff;}#sk-container-id-2 input.sk-hidden--visually {border: 0;clip: rect(1px 1px 1px 1px);clip: rect(1px, 1px, 1px, 1px);height: 1px;margin: -1px;overflow: hidden;padding: 0;position: absolute;width: 1px;}#sk-container-id-2 div.sk-estimator {font-family: monospace;background-color: #f0f8ff;border: 1px dotted black;border-radius: 0.25em;box-sizing: border-box;margin-bottom: 0.5em;}#sk-container-id-2 div.sk-estimator:hover {background-color: #d4ebff;}#sk-container-id-2 div.sk-parallel-item::after {content: \"\";width: 100%;border-bottom: 1px solid gray;flex-grow: 1;}#sk-container-id-2 div.sk-label:hover label.sk-toggleable__label {background-color: #d4ebff;}#sk-container-id-2 div.sk-serial::before {content: \"\";position: absolute;border-left: 1px solid gray;box-sizing: border-box;top: 0;bottom: 0;left: 50%;z-index: 0;}#sk-container-id-2 div.sk-serial {display: flex;flex-direction: column;align-items: center;background-color: white;padding-right: 0.2em;padding-left: 0.2em;position: relative;}#sk-container-id-2 div.sk-item {position: relative;z-index: 1;}#sk-container-id-2 div.sk-parallel {display: flex;align-items: stretch;justify-content: center;background-color: white;position: relative;}#sk-container-id-2 div.sk-item::before, #sk-container-id-2 div.sk-parallel-item::before {content: \"\";position: absolute;border-left: 1px solid gray;box-sizing: border-box;top: 0;bottom: 0;left: 50%;z-index: -1;}#sk-container-id-2 div.sk-parallel-item {display: flex;flex-direction: column;z-index: 1;position: relative;background-color: white;}#sk-container-id-2 div.sk-parallel-item:first-child::after {align-self: flex-end;width: 50%;}#sk-container-id-2 div.sk-parallel-item:last-child::after {align-self: flex-start;width: 50%;}#sk-container-id-2 div.sk-parallel-item:only-child::after {width: 0;}#sk-container-id-2 div.sk-dashed-wrapped {border: 1px dashed gray;margin: 0 0.4em 0.5em 0.4em;box-sizing: border-box;padding-bottom: 0.4em;background-color: white;}#sk-container-id-2 div.sk-label label {font-family: monospace;font-weight: bold;display: inline-block;line-height: 1.2em;}#sk-container-id-2 div.sk-label-container {text-align: center;}#sk-container-id-2 div.sk-container {/* jupyter's `normalize.less` sets `[hidden] { display: none; }` but bootstrap.min.css set `[hidden] { display: none !important; }` so we also need the `!important` here to be able to override the default hidden behavior on the sphinx rendered scikit-learn.org. See: https://github.com/scikit-learn/scikit-learn/issues/21755 */display: inline-block !important;position: relative;}#sk-container-id-2 div.sk-text-repr-fallback {display: none;}</style><div id=\"sk-container-id-2\" class=\"sk-top-container\"><div class=\"sk-text-repr-fallback\"><pre>StandardScaler()</pre><b>In a Jupyter environment, please rerun this cell to show the HTML representation or trust the notebook. <br />On GitHub, the HTML representation is unable to render, please try loading this page with nbviewer.org.</b></div><div class=\"sk-container\" hidden><div class=\"sk-item\"><div class=\"sk-estimator sk-toggleable\"><input class=\"sk-toggleable__control sk-hidden--visually\" id=\"sk-estimator-id-2\" type=\"checkbox\" checked><label for=\"sk-estimator-id-2\" class=\"sk-toggleable__label sk-toggleable__label-arrow\">StandardScaler</label><div class=\"sk-toggleable__content\"><pre>StandardScaler()</pre></div></div></div></div></div>"
      ],
      "text/plain": [
       "StandardScaler()"
      ]
     },
     "execution_count": 270,
     "metadata": {},
     "output_type": "execute_result"
    }
   ],
   "source": [
    "StandardScaler()"
   ]
  },
  {
   "cell_type": "code",
   "execution_count": 271,
   "metadata": {},
   "outputs": [
    {
     "data": {
      "text/html": [
       "<style>#sk-container-id-3 {color: black;}#sk-container-id-3 pre{padding: 0;}#sk-container-id-3 div.sk-toggleable {background-color: white;}#sk-container-id-3 label.sk-toggleable__label {cursor: pointer;display: block;width: 100%;margin-bottom: 0;padding: 0.3em;box-sizing: border-box;text-align: center;}#sk-container-id-3 label.sk-toggleable__label-arrow:before {content: \"▸\";float: left;margin-right: 0.25em;color: #696969;}#sk-container-id-3 label.sk-toggleable__label-arrow:hover:before {color: black;}#sk-container-id-3 div.sk-estimator:hover label.sk-toggleable__label-arrow:before {color: black;}#sk-container-id-3 div.sk-toggleable__content {max-height: 0;max-width: 0;overflow: hidden;text-align: left;background-color: #f0f8ff;}#sk-container-id-3 div.sk-toggleable__content pre {margin: 0.2em;color: black;border-radius: 0.25em;background-color: #f0f8ff;}#sk-container-id-3 input.sk-toggleable__control:checked~div.sk-toggleable__content {max-height: 200px;max-width: 100%;overflow: auto;}#sk-container-id-3 input.sk-toggleable__control:checked~label.sk-toggleable__label-arrow:before {content: \"▾\";}#sk-container-id-3 div.sk-estimator input.sk-toggleable__control:checked~label.sk-toggleable__label {background-color: #d4ebff;}#sk-container-id-3 div.sk-label input.sk-toggleable__control:checked~label.sk-toggleable__label {background-color: #d4ebff;}#sk-container-id-3 input.sk-hidden--visually {border: 0;clip: rect(1px 1px 1px 1px);clip: rect(1px, 1px, 1px, 1px);height: 1px;margin: -1px;overflow: hidden;padding: 0;position: absolute;width: 1px;}#sk-container-id-3 div.sk-estimator {font-family: monospace;background-color: #f0f8ff;border: 1px dotted black;border-radius: 0.25em;box-sizing: border-box;margin-bottom: 0.5em;}#sk-container-id-3 div.sk-estimator:hover {background-color: #d4ebff;}#sk-container-id-3 div.sk-parallel-item::after {content: \"\";width: 100%;border-bottom: 1px solid gray;flex-grow: 1;}#sk-container-id-3 div.sk-label:hover label.sk-toggleable__label {background-color: #d4ebff;}#sk-container-id-3 div.sk-serial::before {content: \"\";position: absolute;border-left: 1px solid gray;box-sizing: border-box;top: 0;bottom: 0;left: 50%;z-index: 0;}#sk-container-id-3 div.sk-serial {display: flex;flex-direction: column;align-items: center;background-color: white;padding-right: 0.2em;padding-left: 0.2em;position: relative;}#sk-container-id-3 div.sk-item {position: relative;z-index: 1;}#sk-container-id-3 div.sk-parallel {display: flex;align-items: stretch;justify-content: center;background-color: white;position: relative;}#sk-container-id-3 div.sk-item::before, #sk-container-id-3 div.sk-parallel-item::before {content: \"\";position: absolute;border-left: 1px solid gray;box-sizing: border-box;top: 0;bottom: 0;left: 50%;z-index: -1;}#sk-container-id-3 div.sk-parallel-item {display: flex;flex-direction: column;z-index: 1;position: relative;background-color: white;}#sk-container-id-3 div.sk-parallel-item:first-child::after {align-self: flex-end;width: 50%;}#sk-container-id-3 div.sk-parallel-item:last-child::after {align-self: flex-start;width: 50%;}#sk-container-id-3 div.sk-parallel-item:only-child::after {width: 0;}#sk-container-id-3 div.sk-dashed-wrapped {border: 1px dashed gray;margin: 0 0.4em 0.5em 0.4em;box-sizing: border-box;padding-bottom: 0.4em;background-color: white;}#sk-container-id-3 div.sk-label label {font-family: monospace;font-weight: bold;display: inline-block;line-height: 1.2em;}#sk-container-id-3 div.sk-label-container {text-align: center;}#sk-container-id-3 div.sk-container {/* jupyter's `normalize.less` sets `[hidden] { display: none; }` but bootstrap.min.css set `[hidden] { display: none !important; }` so we also need the `!important` here to be able to override the default hidden behavior on the sphinx rendered scikit-learn.org. See: https://github.com/scikit-learn/scikit-learn/issues/21755 */display: inline-block !important;position: relative;}#sk-container-id-3 div.sk-text-repr-fallback {display: none;}</style><div id=\"sk-container-id-3\" class=\"sk-top-container\"><div class=\"sk-text-repr-fallback\"><pre>RandomForestRegressor()</pre><b>In a Jupyter environment, please rerun this cell to show the HTML representation or trust the notebook. <br />On GitHub, the HTML representation is unable to render, please try loading this page with nbviewer.org.</b></div><div class=\"sk-container\" hidden><div class=\"sk-item\"><div class=\"sk-estimator sk-toggleable\"><input class=\"sk-toggleable__control sk-hidden--visually\" id=\"sk-estimator-id-3\" type=\"checkbox\" checked><label for=\"sk-estimator-id-3\" class=\"sk-toggleable__label sk-toggleable__label-arrow\">RandomForestRegressor</label><div class=\"sk-toggleable__content\"><pre>RandomForestRegressor()</pre></div></div></div></div></div>"
      ],
      "text/plain": [
       "RandomForestRegressor()"
      ]
     },
     "execution_count": 271,
     "metadata": {},
     "output_type": "execute_result"
    }
   ],
   "source": [
    "RandomForestRegressor()"
   ]
  },
  {
   "cell_type": "code",
   "execution_count": 272,
   "metadata": {},
   "outputs": [],
   "source": [
    "import pickle\n",
    "pickle.dump(StandardScaler(),open('scaler.pkl','wb'))\n",
    "pickle.dump(RandomForestRegressor(),open('RF.pkl','wb'))"
   ]
  },
  {
   "cell_type": "code",
   "execution_count": 5,
   "metadata": {},
   "outputs": [],
   "source": [
    "df=pd.read_csv('States.csv')"
   ]
  },
  {
   "cell_type": "code",
   "execution_count": 8,
   "metadata": {},
   "outputs": [
    {
     "data": {
      "text/html": [
       "<div>\n",
       "<style scoped>\n",
       "    .dataframe tbody tr th:only-of-type {\n",
       "        vertical-align: middle;\n",
       "    }\n",
       "\n",
       "    .dataframe tbody tr th {\n",
       "        vertical-align: top;\n",
       "    }\n",
       "\n",
       "    .dataframe thead th {\n",
       "        text-align: right;\n",
       "    }\n",
       "</style>\n",
       "<table border=\"1\" class=\"dataframe\">\n",
       "  <thead>\n",
       "    <tr style=\"text-align: right;\">\n",
       "      <th></th>\n",
       "      <th>seller_type</th>\n",
       "      <th>bedroom</th>\n",
       "      <th>layout_type</th>\n",
       "      <th>property_type</th>\n",
       "      <th>locality</th>\n",
       "      <th>price</th>\n",
       "      <th>area</th>\n",
       "      <th>furnish_type</th>\n",
       "      <th>bathroom</th>\n",
       "      <th>city</th>\n",
       "    </tr>\n",
       "  </thead>\n",
       "  <tbody>\n",
       "    <tr>\n",
       "      <th>0</th>\n",
       "      <td>OWNER</td>\n",
       "      <td>2.0</td>\n",
       "      <td>BHK</td>\n",
       "      <td>Apartment</td>\n",
       "      <td>Bodakdev</td>\n",
       "      <td>20000.0</td>\n",
       "      <td>1450.0</td>\n",
       "      <td>Furnished</td>\n",
       "      <td>2.0</td>\n",
       "      <td>Ahmedabad</td>\n",
       "    </tr>\n",
       "    <tr>\n",
       "      <th>1</th>\n",
       "      <td>OWNER</td>\n",
       "      <td>1.0</td>\n",
       "      <td>RK</td>\n",
       "      <td>Studio Apartment</td>\n",
       "      <td>CG Road</td>\n",
       "      <td>7350.0</td>\n",
       "      <td>210.0</td>\n",
       "      <td>Semi-Furnished</td>\n",
       "      <td>1.0</td>\n",
       "      <td>Ahmedabad</td>\n",
       "    </tr>\n",
       "    <tr>\n",
       "      <th>2</th>\n",
       "      <td>OWNER</td>\n",
       "      <td>3.0</td>\n",
       "      <td>BHK</td>\n",
       "      <td>Apartment</td>\n",
       "      <td>Jodhpur</td>\n",
       "      <td>22000.0</td>\n",
       "      <td>1900.0</td>\n",
       "      <td>Unfurnished</td>\n",
       "      <td>3.0</td>\n",
       "      <td>Ahmedabad</td>\n",
       "    </tr>\n",
       "    <tr>\n",
       "      <th>3</th>\n",
       "      <td>OWNER</td>\n",
       "      <td>2.0</td>\n",
       "      <td>BHK</td>\n",
       "      <td>Independent House</td>\n",
       "      <td>Sanand</td>\n",
       "      <td>13000.0</td>\n",
       "      <td>1285.0</td>\n",
       "      <td>Semi-Furnished</td>\n",
       "      <td>2.0</td>\n",
       "      <td>Ahmedabad</td>\n",
       "    </tr>\n",
       "    <tr>\n",
       "      <th>4</th>\n",
       "      <td>OWNER</td>\n",
       "      <td>2.0</td>\n",
       "      <td>BHK</td>\n",
       "      <td>Independent House</td>\n",
       "      <td>Navrangpura</td>\n",
       "      <td>18000.0</td>\n",
       "      <td>1600.0</td>\n",
       "      <td>Furnished</td>\n",
       "      <td>2.0</td>\n",
       "      <td>Ahmedabad</td>\n",
       "    </tr>\n",
       "  </tbody>\n",
       "</table>\n",
       "</div>"
      ],
      "text/plain": [
       "  seller_type  bedroom layout_type      property_type     locality    price  \\\n",
       "0       OWNER      2.0         BHK          Apartment     Bodakdev  20000.0   \n",
       "1       OWNER      1.0          RK   Studio Apartment      CG Road   7350.0   \n",
       "2       OWNER      3.0         BHK          Apartment      Jodhpur  22000.0   \n",
       "3       OWNER      2.0         BHK  Independent House       Sanand  13000.0   \n",
       "4       OWNER      2.0         BHK  Independent House  Navrangpura  18000.0   \n",
       "\n",
       "     area    furnish_type  bathroom       city  \n",
       "0  1450.0       Furnished       2.0  Ahmedabad  \n",
       "1   210.0  Semi-Furnished       1.0  Ahmedabad  \n",
       "2  1900.0     Unfurnished       3.0  Ahmedabad  \n",
       "3  1285.0  Semi-Furnished       2.0  Ahmedabad  \n",
       "4  1600.0       Furnished       2.0  Ahmedabad  "
      ]
     },
     "execution_count": 8,
     "metadata": {},
     "output_type": "execute_result"
    }
   ],
   "source": [
    "df.head()"
   ]
  },
  {
   "cell_type": "code",
   "execution_count": 9,
   "metadata": {},
   "outputs": [
    {
     "data": {
      "text/plain": [
       "(193011, 10)"
      ]
     },
     "execution_count": 9,
     "metadata": {},
     "output_type": "execute_result"
    }
   ],
   "source": [
    "df.shape"
   ]
  },
  {
   "cell_type": "code",
   "execution_count": null,
   "metadata": {},
   "outputs": [],
   "source": []
  }
 ],
 "metadata": {
  "kernelspec": {
   "display_name": "Python 3",
   "language": "python",
   "name": "python3"
  },
  "language_info": {
   "codemirror_mode": {
    "name": "ipython",
    "version": 3
   },
   "file_extension": ".py",
   "mimetype": "text/x-python",
   "name": "python",
   "nbconvert_exporter": "python",
   "pygments_lexer": "ipython3",
   "version": "3.8.18"
  }
 },
 "nbformat": 4,
 "nbformat_minor": 2
}
